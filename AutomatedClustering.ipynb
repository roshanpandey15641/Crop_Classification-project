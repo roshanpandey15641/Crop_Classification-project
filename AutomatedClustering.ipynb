{
 "cells": [
  {
   "cell_type": "code",
   "execution_count": 6,
   "id": "8ccc724b",
   "metadata": {},
   "outputs": [],
   "source": [
    "import pandas as pd\n",
    "import numpy as np\n",
    "import matplotlib.pyplot as plt\n",
    "import seaborn as sns\n",
    "from sklearn.mixture import GaussianMixture\n",
    "import shutil\n",
    "import os\n",
    "from tqdm import tqdm\n",
    "import datetime"
   ]
  },
  {
   "cell_type": "code",
   "execution_count": 7,
   "id": "7fd3731e",
   "metadata": {},
   "outputs": [],
   "source": [
    "date = datetime.datetime.today().strftime(\"%Y_%m_%d\")"
   ]
  },
  {
   "cell_type": "code",
   "execution_count": 8,
   "id": "cad73300",
   "metadata": {},
   "outputs": [],
   "source": [
    "todo_path = r'D:\\Crop_Classification\\to_do_path'\n",
    "done_path = r'D:\\Crop_Classification\\done_path'\n",
    "out_path  = r'D:\\Crop_Classification\\Out_path'"
   ]
  },
  {
   "cell_type": "code",
   "execution_count": 9,
   "id": "4ce0396d",
   "metadata": {},
   "outputs": [],
   "source": [
    "cluster_list_file_path = r'D:\\Crop_Classification\\Maize districts with all crops.xlsx'"
   ]
  },
  {
   "cell_type": "code",
   "execution_count": 10,
   "id": "b6fa1272",
   "metadata": {},
   "outputs": [],
   "source": [
    "clus_list = pd.read_excel(cluster_list_file_path, sheet_name = 'Maize districts with crops')\n",
    "\n",
    "clus_list.District = clus_list.District.apply(lambda x: str.lower(x))\n",
    "clus_list.fillna(-9999, inplace=True)"
   ]
  },
  {
   "cell_type": "code",
   "execution_count": 11,
   "id": "dc4f7b7c",
   "metadata": {
    "scrolled": true
   },
   "outputs": [],
   "source": [
    "temp = clus_list.drop(['State','above_1000','Grand Total'], axis=1)"
   ]
  },
  {
   "cell_type": "code",
   "execution_count": 12,
   "id": "7ad114a0",
   "metadata": {},
   "outputs": [],
   "source": [
    "cols = temp.drop(['District'],axis=1).columns"
   ]
  },
  {
   "cell_type": "code",
   "execution_count": 13,
   "id": "822e2326",
   "metadata": {
    "scrolled": true
   },
   "outputs": [],
   "source": [
    "dis_dominant_crop = {}\n",
    "for d in temp.District:\n",
    "    dom_crop = pd.DataFrame(columns=['crop','acreage'])\n",
    "    for col in cols:\n",
    "        if(temp.loc[temp.District == d, col].values > 1000):\n",
    "            min_temp = pd.DataFrame({'crop':col, 'acreage':temp.loc[temp.District == d, col].values})\n",
    "            dom_crop = dom_crop.append(min_temp)\n",
    "    dom_crop.reset_index(inplace=True, drop=True)\n",
    "    dom_crop.sort_values(['acreage'], ascending=False, inplace=True)\n",
    "    dom_crop.reset_index(inplace=True, drop=True)\n",
    "    dis_dominant_crop[d] = dom_crop.crop.values\n",
    "#     break"
   ]
  },
  {
   "cell_type": "code",
   "execution_count": 14,
   "id": "82925250",
   "metadata": {},
   "outputs": [],
   "source": [
    "results = pd.DataFrame(columns=['District','1SD','2SD','3SD','Cultivable Area'])"
   ]
  },
  {
   "cell_type": "code",
   "execution_count": 15,
   "id": "350c01eb",
   "metadata": {
    "scrolled": false
   },
   "outputs": [
    {
     "name": "stderr",
     "output_type": "stream",
     "text": [
      "\r",
      "  0%|                                                                                            | 0/2 [00:00<?, ?it/s]"
     ]
    },
    {
     "name": "stdout",
     "output_type": "stream",
     "text": [
      "Baramulla.csv\n",
      "District:  baramulla\n"
     ]
    },
    {
     "name": "stderr",
     "output_type": "stream",
     "text": [
      "\r",
      " 50%|█████████████████████████████████████████▌                                         | 1/2 [03:09<03:09, 189.30s/it]"
     ]
    },
    {
     "name": "stdout",
     "output_type": "stream",
     "text": [
      "Ramban.csv\n",
      "District:  ramban\n"
     ]
    },
    {
     "name": "stderr",
     "output_type": "stream",
     "text": [
      "100%|███████████████████████████████████████████████████████████████████████████████████| 2/2 [06:29<00:00, 194.75s/it]\n"
     ]
    }
   ],
   "source": [
    "for file in tqdm(os.listdir(todo_path)):\n",
    "    try:\n",
    "        print(file)\n",
    "        dist = ''.join(file.lower().split('.')[0:-1])\n",
    "        print('District: ', dist)\n",
    "        if(dist == 'sas nagar'):\n",
    "            dist = 's.a.s nagar'\n",
    "        df_copy = pd.read_csv(os.path.join(todo_path, file))\n",
    "        df_copy.dropna(inplace=True)\n",
    "        df_copy.reset_index(inplace=True, drop=True)\n",
    "        df = df_copy.copy()\n",
    "        df.rename(columns={'Geo_X':'X', 'Geo_Y':'Y'}, inplace=True)\n",
    "        df.rename(columns={'Geo_X':'X', ' Geo_Y':'Y'}, inplace=True)\n",
    "        full_count = len(df)\n",
    "        df_copy = df.copy()\n",
    "\n",
    "        X = df.drop(['X','Y'], axis=1)\n",
    "\n",
    "        b_mean = {}\n",
    "        b_std = {}\n",
    "        b_data = {}\n",
    "        b_upp1 = {}\n",
    "        b_low1 = {}\n",
    "        b_upp2 = {}\n",
    "        b_low2 = {}\n",
    "        b_upp3 = {}\n",
    "        b_low3 = {}\n",
    "        sd_perc = {}\n",
    "        for i in X.columns:\n",
    "            b_mean[i] = np.mean(X[i])\n",
    "            b_std[i] = np.std(X[i])\n",
    "\n",
    "            b_upp1[i] = b_mean[i] + 1*b_std[i]\n",
    "            b_low1[i] = b_mean[i] - 1*b_std[i]\n",
    "\n",
    "            b_upp2[i] = b_mean[i] + 2*b_std[i]\n",
    "            b_low2[i] = b_mean[i] - 2*b_std[i]\n",
    "\n",
    "            b_upp3[i] = b_mean[i] + 3*b_std[i]\n",
    "            b_low3[i] = b_mean[i] - 3*b_std[i]\n",
    "\n",
    "        df = df_copy.copy()\n",
    "        for i in X.columns:\n",
    "            df.drop(df[np.logical_or(df[i] < b_low1[i], df[i] > b_upp1[i])].index, axis=0, inplace=True)\n",
    "            df.reset_index(inplace=True, drop=True)\n",
    "        sd_perc['1SD'] = (len(df)/full_count)*100\n",
    "        df = df_copy.copy()\n",
    "        for i in X.columns:\n",
    "            df.drop(df[np.logical_or(df[i] < b_low2[i], df[i] > b_upp2[i])].index, axis=0, inplace=True)\n",
    "            df.reset_index(inplace=True, drop=True)\n",
    "        sd_perc['2SD'] = (len(df)/full_count)*100\n",
    "        df = df_copy.copy()\n",
    "        for i in X.columns:\n",
    "            df.drop(df[np.logical_or(df[i] < b_low3[i], df[i] > b_upp3[i])].index, axis=0, inplace=True)\n",
    "            df.reset_index(inplace=True, drop=True)\n",
    "        sd_perc['3SD'] = (len(df)/full_count)*100\n",
    "\n",
    "        ###  Clustering\n",
    "#         num_clusters = clus_list[clus_list.District == dist]['above_1000'].values[0]\n",
    "        num_clusters = 3*clus_list[clus_list.District == dist]['above_1000'].values[0] # number of clusters increased to 3 times\n",
    "\n",
    "        gmix = GaussianMixture(n_components=num_clusters)\n",
    "        gmix.fit(X)\n",
    "\n",
    "        gmix_preds = gmix.predict(X)\n",
    "\n",
    "        df = df_copy.copy()\n",
    "        df_gmix = df.copy()\n",
    "        df_gmix['Class'] = gmix_preds\n",
    "\n",
    "#         cluster_perc = pd.DataFrame(columns=['Cluster','Perc'])\n",
    "#         for i in df_gmix.Class.unique():\n",
    "#             temp = pd.DataFrame({'Cluster':i,'Perc':((len(df_gmix[df_gmix.Class == i])/len(df_gmix))*100)}, index=[0])\n",
    "#             cluster_perc = cluster_perc.append(temp)\n",
    "#         cluster_perc.reset_index(inplace=True, drop=True)\n",
    "#         cluster_perc.sort_values(['Perc'], ascending=False, inplace=True)\n",
    "#         cluster_perc.reset_index(inplace=True, drop=True)\n",
    "\n",
    "#         cluster_perc['Crop'] = None\n",
    "#         for num, crop in enumerate(dis_dominant_crop[dist]):\n",
    "#             cluster_perc.loc[num, 'Crop'] = crop\n",
    "\n",
    "#         df_gmix['Cluster'] = df_gmix.Class\n",
    "#         for clus, crp in zip(cluster_perc.Cluster, cluster_perc.Crop):\n",
    "#             df_gmix.loc[df_gmix.Class == clus,'Class'] = crp\n",
    "\n",
    "        df_gmix.to_csv(os.path.join(out_path,'{}_Clustered.csv'.format(dist)), index=False)\n",
    "\n",
    "        try:\n",
    "            shutil.move(os.path.join(todo_path,file), os.path.join(done_path))\n",
    "        except:\n",
    "            print('Cannot move file to Done folder, {} already present'.format(file))\n",
    "        data = {'District':dist,'1SD':sd_perc['1SD'],\n",
    "                '2SD':sd_perc['2SD'],'3SD':sd_perc['3SD'],\n",
    "                'Cultivable Area':len(df_gmix)/100}\n",
    "        r_temp = pd.DataFrame(data,[0])\n",
    "        results = results.append(r_temp)\n",
    "        results.reset_index(inplace=True, drop=True)\n",
    "    except Exception as e:\n",
    "        print(e)\n",
    "        print(dist,\" Skipped\")\n",
    "        continue\n",
    "results.to_excel('Results_{}.xlsx'.format(date))"
   ]
  }
 ],
 "metadata": {
  "kernelspec": {
   "display_name": "Python 3 (ipykernel)",
   "language": "python",
   "name": "python3"
  },
  "language_info": {
   "codemirror_mode": {
    "name": "ipython",
    "version": 3
   },
   "file_extension": ".py",
   "mimetype": "text/x-python",
   "name": "python",
   "nbconvert_exporter": "python",
   "pygments_lexer": "ipython3",
   "version": "3.9.7"
  }
 },
 "nbformat": 4,
 "nbformat_minor": 5
}
