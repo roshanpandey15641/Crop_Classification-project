{
 "cells": [
  {
   "cell_type": "code",
   "execution_count": 68,
   "id": "e8659511",
   "metadata": {},
   "outputs": [],
   "source": [
    "import numpy as np\n",
    "import pandas as pd\n",
    "import matplotlib.pyplot as plt\n",
    "import seaborn as sns\n",
    "import os\n",
    "from sklearn.ensemble import RandomForestClassifier\n",
    "from sklearn.metrics import f1_score, confusion_matrix\n",
    "from sklearn.tree import DecisionTreeClassifier\n",
    "from sklearn.model_selection import RandomizedSearchCV\n",
    "import xgboost as xgb\n"
   ]
  },
  {
   "cell_type": "code",
   "execution_count": 3,
   "id": "f93d7e3f",
   "metadata": {
    "scrolled": true
   },
   "outputs": [],
   "source": [
    "df1 = pd.read_csv(r'Z:\\farrukhabad_Clustered.csv')"
   ]
  },
  {
   "cell_type": "code",
   "execution_count": 4,
   "id": "8947b2d2",
   "metadata": {},
   "outputs": [
    {
     "data": {
      "text/html": [
       "<div>\n",
       "<style scoped>\n",
       "    .dataframe tbody tr th:only-of-type {\n",
       "        vertical-align: middle;\n",
       "    }\n",
       "\n",
       "    .dataframe tbody tr th {\n",
       "        vertical-align: top;\n",
       "    }\n",
       "\n",
       "    .dataframe thead th {\n",
       "        text-align: right;\n",
       "    }\n",
       "</style>\n",
       "<table border=\"1\" class=\"dataframe\">\n",
       "  <thead>\n",
       "    <tr style=\"text-align: right;\">\n",
       "      <th></th>\n",
       "      <th>X</th>\n",
       "      <th>Y</th>\n",
       "      <th>Cluster</th>\n",
       "      <th>Class</th>\n",
       "    </tr>\n",
       "  </thead>\n",
       "  <tbody>\n",
       "    <tr>\n",
       "      <th>0</th>\n",
       "      <td>3920216.550</td>\n",
       "      <td>4404483.732</td>\n",
       "      <td>19</td>\n",
       "      <td>NaN</td>\n",
       "    </tr>\n",
       "    <tr>\n",
       "      <th>1</th>\n",
       "      <td>3920225.799</td>\n",
       "      <td>4404483.732</td>\n",
       "      <td>19</td>\n",
       "      <td>NaN</td>\n",
       "    </tr>\n",
       "    <tr>\n",
       "      <th>2</th>\n",
       "      <td>3920198.053</td>\n",
       "      <td>4404474.483</td>\n",
       "      <td>19</td>\n",
       "      <td>NaN</td>\n",
       "    </tr>\n",
       "    <tr>\n",
       "      <th>3</th>\n",
       "      <td>3920207.302</td>\n",
       "      <td>4404474.483</td>\n",
       "      <td>19</td>\n",
       "      <td>NaN</td>\n",
       "    </tr>\n",
       "    <tr>\n",
       "      <th>4</th>\n",
       "      <td>3920216.550</td>\n",
       "      <td>4404474.483</td>\n",
       "      <td>19</td>\n",
       "      <td>NaN</td>\n",
       "    </tr>\n",
       "    <tr>\n",
       "      <th>...</th>\n",
       "      <td>...</td>\n",
       "      <td>...</td>\n",
       "      <td>...</td>\n",
       "      <td>...</td>\n",
       "    </tr>\n",
       "    <tr>\n",
       "      <th>22085441</th>\n",
       "      <td>3957258.653</td>\n",
       "      <td>4343190.845</td>\n",
       "      <td>5</td>\n",
       "      <td>NaN</td>\n",
       "    </tr>\n",
       "    <tr>\n",
       "      <th>22085442</th>\n",
       "      <td>3957267.902</td>\n",
       "      <td>4343190.845</td>\n",
       "      <td>5</td>\n",
       "      <td>NaN</td>\n",
       "    </tr>\n",
       "    <tr>\n",
       "      <th>22085443</th>\n",
       "      <td>3957277.151</td>\n",
       "      <td>4343190.845</td>\n",
       "      <td>5</td>\n",
       "      <td>NaN</td>\n",
       "    </tr>\n",
       "    <tr>\n",
       "      <th>22085444</th>\n",
       "      <td>3957286.400</td>\n",
       "      <td>4343190.845</td>\n",
       "      <td>5</td>\n",
       "      <td>NaN</td>\n",
       "    </tr>\n",
       "    <tr>\n",
       "      <th>22085445</th>\n",
       "      <td>3957295.648</td>\n",
       "      <td>4343190.845</td>\n",
       "      <td>9</td>\n",
       "      <td>NaN</td>\n",
       "    </tr>\n",
       "  </tbody>\n",
       "</table>\n",
       "<p>22085446 rows × 4 columns</p>\n",
       "</div>"
      ],
      "text/plain": [
       "                    X            Y  Cluster Class\n",
       "0         3920216.550  4404483.732       19   NaN\n",
       "1         3920225.799  4404483.732       19   NaN\n",
       "2         3920198.053  4404474.483       19   NaN\n",
       "3         3920207.302  4404474.483       19   NaN\n",
       "4         3920216.550  4404474.483       19   NaN\n",
       "...               ...          ...      ...   ...\n",
       "22085441  3957258.653  4343190.845        5   NaN\n",
       "22085442  3957267.902  4343190.845        5   NaN\n",
       "22085443  3957277.151  4343190.845        5   NaN\n",
       "22085444  3957286.400  4343190.845        5   NaN\n",
       "22085445  3957295.648  4343190.845        9   NaN\n",
       "\n",
       "[22085446 rows x 4 columns]"
      ]
     },
     "execution_count": 4,
     "metadata": {},
     "output_type": "execute_result"
    }
   ],
   "source": [
    "df1"
   ]
  },
  {
   "cell_type": "code",
   "execution_count": 5,
   "id": "2d7dea55",
   "metadata": {},
   "outputs": [],
   "source": [
    "df2 = pd.read_csv(r'Z:\\Farrukhabad.csv')"
   ]
  },
  {
   "cell_type": "code",
   "execution_count": 6,
   "id": "c5cdaf9f",
   "metadata": {
    "scrolled": true
   },
   "outputs": [],
   "source": [
    "x= df1[['Cluster']]"
   ]
  },
  {
   "cell_type": "code",
   "execution_count": 7,
   "id": "060a3317",
   "metadata": {},
   "outputs": [],
   "source": [
    "df= df2.join(x)"
   ]
  },
  {
   "cell_type": "code",
   "execution_count": 9,
   "id": "40180fdc",
   "metadata": {},
   "outputs": [
    {
     "data": {
      "text/html": [
       "<div>\n",
       "<style scoped>\n",
       "    .dataframe tbody tr th:only-of-type {\n",
       "        vertical-align: middle;\n",
       "    }\n",
       "\n",
       "    .dataframe tbody tr th {\n",
       "        vertical-align: top;\n",
       "    }\n",
       "\n",
       "    .dataframe thead th {\n",
       "        text-align: right;\n",
       "    }\n",
       "</style>\n",
       "<table border=\"1\" class=\"dataframe\">\n",
       "  <thead>\n",
       "    <tr style=\"text-align: right;\">\n",
       "      <th></th>\n",
       "      <th>Geo_X</th>\n",
       "      <th>Geo_Y</th>\n",
       "      <th>Band_1</th>\n",
       "      <th>Band_2</th>\n",
       "      <th>Band_3</th>\n",
       "      <th>Band_4</th>\n",
       "      <th>Band_5</th>\n",
       "      <th>Band_6</th>\n",
       "      <th>Band_7</th>\n",
       "      <th>Band_8</th>\n",
       "      <th>Band_9</th>\n",
       "      <th>Band_10</th>\n",
       "      <th>Band_11</th>\n",
       "      <th>Band_12</th>\n",
       "      <th>Band_13</th>\n",
       "      <th>Cluster</th>\n",
       "    </tr>\n",
       "  </thead>\n",
       "  <tbody>\n",
       "    <tr>\n",
       "      <th>0</th>\n",
       "      <td>3920216.550</td>\n",
       "      <td>4404483.732</td>\n",
       "      <td>2699</td>\n",
       "      <td>2465</td>\n",
       "      <td>2445</td>\n",
       "      <td>2372</td>\n",
       "      <td>2545</td>\n",
       "      <td>3198</td>\n",
       "      <td>3644</td>\n",
       "      <td>3291</td>\n",
       "      <td>1281</td>\n",
       "      <td>1010</td>\n",
       "      <td>3594</td>\n",
       "      <td>2824</td>\n",
       "      <td>3771</td>\n",
       "      <td>19</td>\n",
       "    </tr>\n",
       "    <tr>\n",
       "      <th>1</th>\n",
       "      <td>3920225.799</td>\n",
       "      <td>4404483.732</td>\n",
       "      <td>2699</td>\n",
       "      <td>2531</td>\n",
       "      <td>2506</td>\n",
       "      <td>2508</td>\n",
       "      <td>2545</td>\n",
       "      <td>3198</td>\n",
       "      <td>3644</td>\n",
       "      <td>3276</td>\n",
       "      <td>1281</td>\n",
       "      <td>1010</td>\n",
       "      <td>3594</td>\n",
       "      <td>2824</td>\n",
       "      <td>3771</td>\n",
       "      <td>19</td>\n",
       "    </tr>\n",
       "    <tr>\n",
       "      <th>2</th>\n",
       "      <td>3920198.053</td>\n",
       "      <td>4404474.483</td>\n",
       "      <td>2699</td>\n",
       "      <td>2416</td>\n",
       "      <td>2420</td>\n",
       "      <td>2279</td>\n",
       "      <td>2505</td>\n",
       "      <td>3329</td>\n",
       "      <td>3784</td>\n",
       "      <td>3556</td>\n",
       "      <td>1281</td>\n",
       "      <td>1010</td>\n",
       "      <td>3500</td>\n",
       "      <td>2642</td>\n",
       "      <td>3959</td>\n",
       "      <td>19</td>\n",
       "    </tr>\n",
       "    <tr>\n",
       "      <th>3</th>\n",
       "      <td>3920207.302</td>\n",
       "      <td>4404474.483</td>\n",
       "      <td>2699</td>\n",
       "      <td>2471</td>\n",
       "      <td>2433</td>\n",
       "      <td>2357</td>\n",
       "      <td>2505</td>\n",
       "      <td>3329</td>\n",
       "      <td>3784</td>\n",
       "      <td>3464</td>\n",
       "      <td>1281</td>\n",
       "      <td>1010</td>\n",
       "      <td>3500</td>\n",
       "      <td>2642</td>\n",
       "      <td>3959</td>\n",
       "      <td>19</td>\n",
       "    </tr>\n",
       "    <tr>\n",
       "      <th>4</th>\n",
       "      <td>3920216.550</td>\n",
       "      <td>4404474.483</td>\n",
       "      <td>2699</td>\n",
       "      <td>2476</td>\n",
       "      <td>2469</td>\n",
       "      <td>2408</td>\n",
       "      <td>2545</td>\n",
       "      <td>3198</td>\n",
       "      <td>3644</td>\n",
       "      <td>3340</td>\n",
       "      <td>1281</td>\n",
       "      <td>1010</td>\n",
       "      <td>3594</td>\n",
       "      <td>2824</td>\n",
       "      <td>3771</td>\n",
       "      <td>19</td>\n",
       "    </tr>\n",
       "    <tr>\n",
       "      <th>5</th>\n",
       "      <td>3920225.799</td>\n",
       "      <td>4404474.483</td>\n",
       "      <td>2699</td>\n",
       "      <td>2485</td>\n",
       "      <td>2488</td>\n",
       "      <td>2458</td>\n",
       "      <td>2545</td>\n",
       "      <td>3198</td>\n",
       "      <td>3644</td>\n",
       "      <td>3307</td>\n",
       "      <td>1281</td>\n",
       "      <td>1010</td>\n",
       "      <td>3594</td>\n",
       "      <td>2824</td>\n",
       "      <td>3771</td>\n",
       "      <td>19</td>\n",
       "    </tr>\n",
       "  </tbody>\n",
       "</table>\n",
       "</div>"
      ],
      "text/plain": [
       "         Geo_X        Geo_Y  Band_1  Band_2  Band_3  Band_4  Band_5  Band_6  \\\n",
       "0  3920216.550  4404483.732    2699    2465    2445    2372    2545    3198   \n",
       "1  3920225.799  4404483.732    2699    2531    2506    2508    2545    3198   \n",
       "2  3920198.053  4404474.483    2699    2416    2420    2279    2505    3329   \n",
       "3  3920207.302  4404474.483    2699    2471    2433    2357    2505    3329   \n",
       "4  3920216.550  4404474.483    2699    2476    2469    2408    2545    3198   \n",
       "5  3920225.799  4404474.483    2699    2485    2488    2458    2545    3198   \n",
       "\n",
       "   Band_7  Band_8  Band_9  Band_10  Band_11  Band_12  Band_13  Cluster  \n",
       "0    3644    3291    1281     1010     3594     2824     3771       19  \n",
       "1    3644    3276    1281     1010     3594     2824     3771       19  \n",
       "2    3784    3556    1281     1010     3500     2642     3959       19  \n",
       "3    3784    3464    1281     1010     3500     2642     3959       19  \n",
       "4    3644    3340    1281     1010     3594     2824     3771       19  \n",
       "5    3644    3307    1281     1010     3594     2824     3771       19  "
      ]
     },
     "execution_count": 9,
     "metadata": {},
     "output_type": "execute_result"
    }
   ],
   "source": [
    "df.head(6)"
   ]
  },
  {
   "cell_type": "code",
   "execution_count": 10,
   "id": "a02bd31d",
   "metadata": {
    "scrolled": false
   },
   "outputs": [
    {
     "data": {
      "text/plain": [
       "array([19,  5,  9,  2, 13, 11,  6,  0,  7,  4, 10, 20,  1, 17, 15, 18,  8,\n",
       "        3, 16, 14, 12], dtype=int64)"
      ]
     },
     "execution_count": 10,
     "metadata": {},
     "output_type": "execute_result"
    }
   ],
   "source": [
    "df['Cluster'].unique()"
   ]
  },
  {
   "cell_type": "code",
   "execution_count": 50,
   "id": "8990d85b",
   "metadata": {},
   "outputs": [],
   "source": [
    "df['Cluster'] = df['Cluster'].replace(20,0)"
   ]
  },
  {
   "cell_type": "code",
   "execution_count": 52,
   "id": "878d80de",
   "metadata": {},
   "outputs": [
    {
     "data": {
      "text/plain": [
       "array([0, 1], dtype=int64)"
      ]
     },
     "execution_count": 52,
     "metadata": {},
     "output_type": "execute_result"
    }
   ],
   "source": [
    "df['Cluster'].unique()"
   ]
  },
  {
   "cell_type": "code",
   "execution_count": 53,
   "id": "8e7da459",
   "metadata": {},
   "outputs": [],
   "source": [
    "df.rename(columns = {'Cluster':'maize_mask_farrukhabad'},inplace=True)"
   ]
  },
  {
   "cell_type": "code",
   "execution_count": 54,
   "id": "2388d100",
   "metadata": {},
   "outputs": [
    {
     "data": {
      "text/html": [
       "<div>\n",
       "<style scoped>\n",
       "    .dataframe tbody tr th:only-of-type {\n",
       "        vertical-align: middle;\n",
       "    }\n",
       "\n",
       "    .dataframe tbody tr th {\n",
       "        vertical-align: top;\n",
       "    }\n",
       "\n",
       "    .dataframe thead th {\n",
       "        text-align: right;\n",
       "    }\n",
       "</style>\n",
       "<table border=\"1\" class=\"dataframe\">\n",
       "  <thead>\n",
       "    <tr style=\"text-align: right;\">\n",
       "      <th></th>\n",
       "      <th>Geo_X</th>\n",
       "      <th>Geo_Y</th>\n",
       "      <th>Band_1</th>\n",
       "      <th>Band_2</th>\n",
       "      <th>Band_3</th>\n",
       "      <th>Band_4</th>\n",
       "      <th>Band_5</th>\n",
       "      <th>Band_6</th>\n",
       "      <th>Band_7</th>\n",
       "      <th>Band_8</th>\n",
       "      <th>Band_9</th>\n",
       "      <th>Band_10</th>\n",
       "      <th>Band_11</th>\n",
       "      <th>Band_12</th>\n",
       "      <th>Band_13</th>\n",
       "      <th>maize_mask_farrukhabad</th>\n",
       "    </tr>\n",
       "  </thead>\n",
       "  <tbody>\n",
       "    <tr>\n",
       "      <th>0</th>\n",
       "      <td>3920216.550</td>\n",
       "      <td>4404483.732</td>\n",
       "      <td>2699</td>\n",
       "      <td>2465</td>\n",
       "      <td>2445</td>\n",
       "      <td>2372</td>\n",
       "      <td>2545</td>\n",
       "      <td>3198</td>\n",
       "      <td>3644</td>\n",
       "      <td>3291</td>\n",
       "      <td>1281</td>\n",
       "      <td>1010</td>\n",
       "      <td>3594</td>\n",
       "      <td>2824</td>\n",
       "      <td>3771</td>\n",
       "      <td>0</td>\n",
       "    </tr>\n",
       "    <tr>\n",
       "      <th>1</th>\n",
       "      <td>3920225.799</td>\n",
       "      <td>4404483.732</td>\n",
       "      <td>2699</td>\n",
       "      <td>2531</td>\n",
       "      <td>2506</td>\n",
       "      <td>2508</td>\n",
       "      <td>2545</td>\n",
       "      <td>3198</td>\n",
       "      <td>3644</td>\n",
       "      <td>3276</td>\n",
       "      <td>1281</td>\n",
       "      <td>1010</td>\n",
       "      <td>3594</td>\n",
       "      <td>2824</td>\n",
       "      <td>3771</td>\n",
       "      <td>0</td>\n",
       "    </tr>\n",
       "    <tr>\n",
       "      <th>2</th>\n",
       "      <td>3920198.053</td>\n",
       "      <td>4404474.483</td>\n",
       "      <td>2699</td>\n",
       "      <td>2416</td>\n",
       "      <td>2420</td>\n",
       "      <td>2279</td>\n",
       "      <td>2505</td>\n",
       "      <td>3329</td>\n",
       "      <td>3784</td>\n",
       "      <td>3556</td>\n",
       "      <td>1281</td>\n",
       "      <td>1010</td>\n",
       "      <td>3500</td>\n",
       "      <td>2642</td>\n",
       "      <td>3959</td>\n",
       "      <td>0</td>\n",
       "    </tr>\n",
       "    <tr>\n",
       "      <th>3</th>\n",
       "      <td>3920207.302</td>\n",
       "      <td>4404474.483</td>\n",
       "      <td>2699</td>\n",
       "      <td>2471</td>\n",
       "      <td>2433</td>\n",
       "      <td>2357</td>\n",
       "      <td>2505</td>\n",
       "      <td>3329</td>\n",
       "      <td>3784</td>\n",
       "      <td>3464</td>\n",
       "      <td>1281</td>\n",
       "      <td>1010</td>\n",
       "      <td>3500</td>\n",
       "      <td>2642</td>\n",
       "      <td>3959</td>\n",
       "      <td>0</td>\n",
       "    </tr>\n",
       "    <tr>\n",
       "      <th>4</th>\n",
       "      <td>3920216.550</td>\n",
       "      <td>4404474.483</td>\n",
       "      <td>2699</td>\n",
       "      <td>2476</td>\n",
       "      <td>2469</td>\n",
       "      <td>2408</td>\n",
       "      <td>2545</td>\n",
       "      <td>3198</td>\n",
       "      <td>3644</td>\n",
       "      <td>3340</td>\n",
       "      <td>1281</td>\n",
       "      <td>1010</td>\n",
       "      <td>3594</td>\n",
       "      <td>2824</td>\n",
       "      <td>3771</td>\n",
       "      <td>0</td>\n",
       "    </tr>\n",
       "    <tr>\n",
       "      <th>...</th>\n",
       "      <td>...</td>\n",
       "      <td>...</td>\n",
       "      <td>...</td>\n",
       "      <td>...</td>\n",
       "      <td>...</td>\n",
       "      <td>...</td>\n",
       "      <td>...</td>\n",
       "      <td>...</td>\n",
       "      <td>...</td>\n",
       "      <td>...</td>\n",
       "      <td>...</td>\n",
       "      <td>...</td>\n",
       "      <td>...</td>\n",
       "      <td>...</td>\n",
       "      <td>...</td>\n",
       "      <td>...</td>\n",
       "    </tr>\n",
       "    <tr>\n",
       "      <th>22085441</th>\n",
       "      <td>3957258.653</td>\n",
       "      <td>4343190.845</td>\n",
       "      <td>2667</td>\n",
       "      <td>2475</td>\n",
       "      <td>2462</td>\n",
       "      <td>2498</td>\n",
       "      <td>2489</td>\n",
       "      <td>2854</td>\n",
       "      <td>3177</td>\n",
       "      <td>2970</td>\n",
       "      <td>1210</td>\n",
       "      <td>1015</td>\n",
       "      <td>3580</td>\n",
       "      <td>2760</td>\n",
       "      <td>3339</td>\n",
       "      <td>0</td>\n",
       "    </tr>\n",
       "    <tr>\n",
       "      <th>22085442</th>\n",
       "      <td>3957267.902</td>\n",
       "      <td>4343190.845</td>\n",
       "      <td>2667</td>\n",
       "      <td>2521</td>\n",
       "      <td>2531</td>\n",
       "      <td>2594</td>\n",
       "      <td>2489</td>\n",
       "      <td>2854</td>\n",
       "      <td>3177</td>\n",
       "      <td>3038</td>\n",
       "      <td>1210</td>\n",
       "      <td>1015</td>\n",
       "      <td>3580</td>\n",
       "      <td>2760</td>\n",
       "      <td>3339</td>\n",
       "      <td>0</td>\n",
       "    </tr>\n",
       "    <tr>\n",
       "      <th>22085443</th>\n",
       "      <td>3957277.151</td>\n",
       "      <td>4343190.845</td>\n",
       "      <td>2656</td>\n",
       "      <td>2601</td>\n",
       "      <td>2603</td>\n",
       "      <td>2713</td>\n",
       "      <td>2601</td>\n",
       "      <td>3011</td>\n",
       "      <td>3392</td>\n",
       "      <td>3226</td>\n",
       "      <td>1219</td>\n",
       "      <td>1015</td>\n",
       "      <td>3700</td>\n",
       "      <td>2879</td>\n",
       "      <td>3601</td>\n",
       "      <td>0</td>\n",
       "    </tr>\n",
       "    <tr>\n",
       "      <th>22085444</th>\n",
       "      <td>3957286.400</td>\n",
       "      <td>4343190.845</td>\n",
       "      <td>2656</td>\n",
       "      <td>2571</td>\n",
       "      <td>2595</td>\n",
       "      <td>2623</td>\n",
       "      <td>2601</td>\n",
       "      <td>3011</td>\n",
       "      <td>3392</td>\n",
       "      <td>3308</td>\n",
       "      <td>1219</td>\n",
       "      <td>1015</td>\n",
       "      <td>3700</td>\n",
       "      <td>2879</td>\n",
       "      <td>3601</td>\n",
       "      <td>0</td>\n",
       "    </tr>\n",
       "    <tr>\n",
       "      <th>22085445</th>\n",
       "      <td>3957295.648</td>\n",
       "      <td>4343190.845</td>\n",
       "      <td>2656</td>\n",
       "      <td>2535</td>\n",
       "      <td>2573</td>\n",
       "      <td>2596</td>\n",
       "      <td>2578</td>\n",
       "      <td>3166</td>\n",
       "      <td>3588</td>\n",
       "      <td>3301</td>\n",
       "      <td>1219</td>\n",
       "      <td>1015</td>\n",
       "      <td>3687</td>\n",
       "      <td>2753</td>\n",
       "      <td>3784</td>\n",
       "      <td>0</td>\n",
       "    </tr>\n",
       "  </tbody>\n",
       "</table>\n",
       "<p>22085446 rows × 16 columns</p>\n",
       "</div>"
      ],
      "text/plain": [
       "                Geo_X        Geo_Y  Band_1  Band_2  Band_3  Band_4  Band_5  \\\n",
       "0         3920216.550  4404483.732    2699    2465    2445    2372    2545   \n",
       "1         3920225.799  4404483.732    2699    2531    2506    2508    2545   \n",
       "2         3920198.053  4404474.483    2699    2416    2420    2279    2505   \n",
       "3         3920207.302  4404474.483    2699    2471    2433    2357    2505   \n",
       "4         3920216.550  4404474.483    2699    2476    2469    2408    2545   \n",
       "...               ...          ...     ...     ...     ...     ...     ...   \n",
       "22085441  3957258.653  4343190.845    2667    2475    2462    2498    2489   \n",
       "22085442  3957267.902  4343190.845    2667    2521    2531    2594    2489   \n",
       "22085443  3957277.151  4343190.845    2656    2601    2603    2713    2601   \n",
       "22085444  3957286.400  4343190.845    2656    2571    2595    2623    2601   \n",
       "22085445  3957295.648  4343190.845    2656    2535    2573    2596    2578   \n",
       "\n",
       "          Band_6  Band_7  Band_8  Band_9  Band_10  Band_11  Band_12  Band_13  \\\n",
       "0           3198    3644    3291    1281     1010     3594     2824     3771   \n",
       "1           3198    3644    3276    1281     1010     3594     2824     3771   \n",
       "2           3329    3784    3556    1281     1010     3500     2642     3959   \n",
       "3           3329    3784    3464    1281     1010     3500     2642     3959   \n",
       "4           3198    3644    3340    1281     1010     3594     2824     3771   \n",
       "...          ...     ...     ...     ...      ...      ...      ...      ...   \n",
       "22085441    2854    3177    2970    1210     1015     3580     2760     3339   \n",
       "22085442    2854    3177    3038    1210     1015     3580     2760     3339   \n",
       "22085443    3011    3392    3226    1219     1015     3700     2879     3601   \n",
       "22085444    3011    3392    3308    1219     1015     3700     2879     3601   \n",
       "22085445    3166    3588    3301    1219     1015     3687     2753     3784   \n",
       "\n",
       "          maize_mask_farrukhabad  \n",
       "0                              0  \n",
       "1                              0  \n",
       "2                              0  \n",
       "3                              0  \n",
       "4                              0  \n",
       "...                          ...  \n",
       "22085441                       0  \n",
       "22085442                       0  \n",
       "22085443                       0  \n",
       "22085444                       0  \n",
       "22085445                       0  \n",
       "\n",
       "[22085446 rows x 16 columns]"
      ]
     },
     "execution_count": 54,
     "metadata": {},
     "output_type": "execute_result"
    }
   ],
   "source": [
    "df"
   ]
  },
  {
   "cell_type": "code",
   "execution_count": 55,
   "id": "03b5c46c",
   "metadata": {},
   "outputs": [
    {
     "data": {
      "text/plain": [
       "array([0, 1], dtype=int64)"
      ]
     },
     "execution_count": 55,
     "metadata": {},
     "output_type": "execute_result"
    }
   ],
   "source": [
    "df['maize_mask_farrukhabad'].unique()"
   ]
  },
  {
   "cell_type": "code",
   "execution_count": 66,
   "id": "d35ddda3",
   "metadata": {},
   "outputs": [
    {
     "name": "stdout",
     "output_type": "stream",
     "text": [
      "<class 'pandas.core.frame.DataFrame'>\n",
      "RangeIndex: 22085446 entries, 0 to 22085445\n",
      "Data columns (total 16 columns):\n",
      " #   Column                  Dtype  \n",
      "---  ------                  -----  \n",
      " 0   Geo_X                   float64\n",
      " 1   Geo_Y                   float64\n",
      " 2   Band_1                  int64  \n",
      " 3   Band_2                  int64  \n",
      " 4   Band_3                  int64  \n",
      " 5   Band_4                  int64  \n",
      " 6   Band_5                  int64  \n",
      " 7   Band_6                  int64  \n",
      " 8   Band_7                  int64  \n",
      " 9   Band_8                  int64  \n",
      " 10  Band_9                  int64  \n",
      " 11  Band_10                 int64  \n",
      " 12  Band_11                 int64  \n",
      " 13  Band_12                 int64  \n",
      " 14  Band_13                 int64  \n",
      " 15  maize_mask_farrukhabad  int64  \n",
      "dtypes: float64(2), int64(14)\n",
      "memory usage: 2.6 GB\n"
     ]
    }
   ],
   "source": [
    "df.info()"
   ]
  },
  {
   "cell_type": "code",
   "execution_count": 56,
   "id": "f0ae2216",
   "metadata": {},
   "outputs": [],
   "source": [
    "x=df[['Band_3','Band_4','Band_8']]\n",
    "y=df['maize_mask_farrukhabad']"
   ]
  },
  {
   "cell_type": "code",
   "execution_count": 62,
   "id": "dc31acd9",
   "metadata": {},
   "outputs": [],
   "source": [
    "from sklearn.model_selection import train_test_split\n",
    "X_train,X_test,Y_train,Y_test = train_test_split(x,y,test_size=0.2,random_state=51)"
   ]
  },
  {
   "cell_type": "markdown",
   "id": "1df4510a",
   "metadata": {},
   "source": [
    "# rfc_model"
   ]
  },
  {
   "cell_type": "code",
   "execution_count": 58,
   "id": "1e6d18f3",
   "metadata": {
    "scrolled": true
   },
   "outputs": [
    {
     "name": "stdout",
     "output_type": "stream",
     "text": [
      "0.6582741460699599\n",
      "0.6507783885160444\n",
      "training score on 20% data\n",
      "Wall time: 22min 24s\n"
     ]
    }
   ],
   "source": [
    "%%time\n",
    "rfc_model = RandomForestClassifier(n_estimators=100,criterion='gini',max_depth=15)\n",
    "rfc_model.fit(X_train,Y_train)\n",
    "rfc_train_pred = rfc_model.predict(X_train)\n",
    "rfc_test_pred = rfc_model.predict(X_test)\n",
    "print(f1_score(Y_train,rfc_train_pred))\n",
    "print(f1_score(Y_test,rfc_test_pred))\n",
    "print(\"training score on 20% data\")"
   ]
  },
  {
   "cell_type": "code",
   "execution_count": 65,
   "id": "1d7faa89",
   "metadata": {},
   "outputs": [
    {
     "name": "stdout",
     "output_type": "stream",
     "text": [
      "0.6532107247106724\n",
      "0.6505209026291942\n",
      "training score on 80% data\n",
      "Wall time: 56min\n"
     ]
    }
   ],
   "source": [
    "%%time\n",
    "rfc_model = RandomForestClassifier(n_estimators=80,criterion='gini',max_depth=15)\n",
    "rfc_model.fit(X_train,Y_train)\n",
    "rfc_train_pred = rfc_model.predict(X_train)\n",
    "rfc_test_pred = rfc_model.predict(X_test)\n",
    "print(f1_score(Y_train,rfc_train_pred))\n",
    "print(f1_score(Y_test,rfc_test_pred))\n",
    "print(\"training score on 80% data\")"
   ]
  },
  {
   "cell_type": "code",
   "execution_count": 59,
   "id": "66e8609e",
   "metadata": {
    "scrolled": true
   },
   "outputs": [
    {
     "name": "stdout",
     "output_type": "stream",
     "text": [
      "0.7113745798090904\n",
      "0.6455583609955872\n",
      "training score on 20% data\n",
      "Wall time: 43.1 s\n"
     ]
    }
   ],
   "source": [
    "%%time\n",
    "dtc = DecisionTreeClassifier(criterion='gini',max_depth= 20,random_state=60,min_samples_split=2)\n",
    "dtc.fit(X_train,Y_train)\n",
    "dtc_train_pred = dtc.predict(X_train)\n",
    "dtc_test_pred = dtc.predict(X_test)\n",
    "print(f1_score(Y_train,dtc_train_pred))\n",
    "print(f1_score(Y_test,dtc_test_pred))\n",
    "print(\"training score on 20% data\")"
   ]
  },
  {
   "cell_type": "code",
   "execution_count": 63,
   "id": "013d979e",
   "metadata": {},
   "outputs": [
    {
     "name": "stdout",
     "output_type": "stream",
     "text": [
      "0.6884897123634319\n",
      "0.6600220292335687\n",
      "training score on 80% data\n",
      "Wall time: 2min 3s\n"
     ]
    }
   ],
   "source": [
    "%%time\n",
    "dtc = DecisionTreeClassifier(criterion='gini',max_depth= 20,random_state=60)\n",
    "dtc.fit(X_train,Y_train)\n",
    "dtc_train_pred = dtc.predict(X_train)\n",
    "dtc_test_pred = dtc.predict(X_test)\n",
    "print(f1_score(Y_train,dtc_train_pred))\n",
    "print(f1_score(Y_test,dtc_test_pred))\n",
    "print(\"training score on 80% data\")"
   ]
  },
  {
   "cell_type": "code",
   "execution_count": 69,
   "id": "8862f016",
   "metadata": {},
   "outputs": [],
   "source": [
    "dtc_model = DecisionTreeClassifier()"
   ]
  },
  {
   "cell_type": "code",
   "execution_count": null,
   "id": "d238b0df",
   "metadata": {},
   "outputs": [],
   "source": [
    "parameter = {'criterion':['gini', 'entropy', 'log_loss'],'max_depth':[8,10,12,15,20],}"
   ]
  },
  {
   "cell_type": "code",
   "execution_count": null,
   "id": "4ab04a98",
   "metadata": {},
   "outputs": [],
   "source": []
  },
  {
   "cell_type": "code",
   "execution_count": null,
   "id": "78b65e83",
   "metadata": {},
   "outputs": [],
   "source": []
  },
  {
   "cell_type": "code",
   "execution_count": null,
   "id": "e5036e22",
   "metadata": {},
   "outputs": [],
   "source": []
  },
  {
   "cell_type": "code",
   "execution_count": 60,
   "id": "19fde6ab",
   "metadata": {},
   "outputs": [
    {
     "name": "stdout",
     "output_type": "stream",
     "text": [
      "0.6806591481468554\n",
      "0.6600860827185108\n",
      "training score on 20% data\n",
      "Wall time: 1min 53s\n"
     ]
    }
   ],
   "source": [
    "%%time\n",
    "xgbc = xgb.XGBClassifier(n_estimators=70,random_state=55,max_depth=15)\n",
    "xgbc.fit(X_train,Y_train)\n",
    "xgbc_train_pred = xgbc.predict(X_train)\n",
    "xgbc_test_pred = xgbc.predict(X_test)\n",
    "print(f1_score(Y_train,xgbc_train_pred))\n",
    "print(f1_score(Y_test,xgbc_test_pred))\n",
    "print(\"training score on 20% data\")"
   ]
  },
  {
   "cell_type": "code",
   "execution_count": 64,
   "id": "47cb14b2",
   "metadata": {},
   "outputs": [
    {
     "name": "stdout",
     "output_type": "stream",
     "text": [
      "0.6698166186394694\n",
      "0.6626436851916456\n",
      "training score on 80% data\n",
      "Wall time: 6min 36s\n"
     ]
    }
   ],
   "source": [
    "%%time\n",
    "xgbc = xgb.XGBClassifier(n_estimators=70,random_state=55,max_depth=15)\n",
    "xgbc.fit(X_train,Y_train)\n",
    "xgbc_train_pred = xgbc.predict(X_train)\n",
    "xgbc_test_pred = xgbc.predict(X_test)\n",
    "print(f1_score(Y_train,xgbc_train_pred))\n",
    "print(f1_score(Y_test,xgbc_test_pred))\n",
    "print(\"training score on 80% data\")"
   ]
  },
  {
   "cell_type": "code",
   "execution_count": 69,
   "id": "4665d4b5",
   "metadata": {},
   "outputs": [],
   "source": [
    "import joblib"
   ]
  },
  {
   "cell_type": "code",
   "execution_count": 70,
   "id": "f47df7c5",
   "metadata": {},
   "outputs": [
    {
     "data": {
      "text/plain": [
       "['xgb_model_mainpuri.pkl']"
      ]
     },
     "execution_count": 70,
     "metadata": {},
     "output_type": "execute_result"
    }
   ],
   "source": [
    "joblib.dump(xgbc,'xgb_model_mainpuri.pkl')"
   ]
  },
  {
   "cell_type": "code",
   "execution_count": 73,
   "id": "2c2336ca",
   "metadata": {},
   "outputs": [],
   "source": [
    "xgb_load_model = joblib.load('xgb_model_mainpuri.pkl')"
   ]
  },
  {
   "cell_type": "code",
   "execution_count": 90,
   "id": "a45e6af7",
   "metadata": {},
   "outputs": [],
   "source": [
    "data = pd.read_csv(r'Z:\\temp\\Etah.csv')"
   ]
  },
  {
   "cell_type": "code",
   "execution_count": 95,
   "id": "06425529",
   "metadata": {
    "scrolled": true
   },
   "outputs": [
    {
     "data": {
      "text/html": [
       "<div>\n",
       "<style scoped>\n",
       "    .dataframe tbody tr th:only-of-type {\n",
       "        vertical-align: middle;\n",
       "    }\n",
       "\n",
       "    .dataframe tbody tr th {\n",
       "        vertical-align: top;\n",
       "    }\n",
       "\n",
       "    .dataframe thead th {\n",
       "        text-align: right;\n",
       "    }\n",
       "</style>\n",
       "<table border=\"1\" class=\"dataframe\">\n",
       "  <thead>\n",
       "    <tr style=\"text-align: right;\">\n",
       "      <th></th>\n",
       "      <th>Geo_X</th>\n",
       "      <th>Geo_Y</th>\n",
       "      <th>Band_1</th>\n",
       "      <th>Band_2</th>\n",
       "      <th>Band_3</th>\n",
       "      <th>Band_4</th>\n",
       "      <th>Band_5</th>\n",
       "      <th>Band_6</th>\n",
       "      <th>Band_7</th>\n",
       "      <th>Band_8</th>\n",
       "      <th>Band_9</th>\n",
       "      <th>Band_10</th>\n",
       "      <th>Band_11</th>\n",
       "      <th>Band_12</th>\n",
       "      <th>Band_13</th>\n",
       "    </tr>\n",
       "  </thead>\n",
       "  <tbody>\n",
       "    <tr>\n",
       "      <th>0</th>\n",
       "      <td>3859505.626</td>\n",
       "      <td>4412341.437</td>\n",
       "      <td>2419</td>\n",
       "      <td>2173</td>\n",
       "      <td>2127</td>\n",
       "      <td>1941</td>\n",
       "      <td>2188</td>\n",
       "      <td>3487</td>\n",
       "      <td>4214</td>\n",
       "      <td>3948</td>\n",
       "      <td>1420</td>\n",
       "      <td>1010</td>\n",
       "      <td>3287</td>\n",
       "      <td>2141</td>\n",
       "      <td>4556</td>\n",
       "    </tr>\n",
       "    <tr>\n",
       "      <th>1</th>\n",
       "      <td>3859514.557</td>\n",
       "      <td>4412341.437</td>\n",
       "      <td>2492</td>\n",
       "      <td>2171</td>\n",
       "      <td>2147</td>\n",
       "      <td>1933</td>\n",
       "      <td>2177</td>\n",
       "      <td>3404</td>\n",
       "      <td>4140</td>\n",
       "      <td>3951</td>\n",
       "      <td>1396</td>\n",
       "      <td>1010</td>\n",
       "      <td>3423</td>\n",
       "      <td>2227</td>\n",
       "      <td>4462</td>\n",
       "    </tr>\n",
       "  </tbody>\n",
       "</table>\n",
       "</div>"
      ],
      "text/plain": [
       "         Geo_X        Geo_Y  Band_1  Band_2  Band_3  Band_4  Band_5  Band_6  \\\n",
       "0  3859505.626  4412341.437    2419    2173    2127    1941    2188    3487   \n",
       "1  3859514.557  4412341.437    2492    2171    2147    1933    2177    3404   \n",
       "\n",
       "   Band_7  Band_8  Band_9  Band_10  Band_11  Band_12  Band_13  \n",
       "0    4214    3948    1420     1010     3287     2141     4556  \n",
       "1    4140    3951    1396     1010     3423     2227     4462  "
      ]
     },
     "execution_count": 95,
     "metadata": {},
     "output_type": "execute_result"
    }
   ],
   "source": [
    "data.head(2)"
   ]
  },
  {
   "cell_type": "code",
   "execution_count": 96,
   "id": "c8406a08",
   "metadata": {},
   "outputs": [
    {
     "data": {
      "text/plain": [
       "Index(['Geo_X', 'Geo_Y', 'Band_1', 'Band_2', 'Band_3', 'Band_4', 'Band_5',\n",
       "       'Band_6', 'Band_7', 'Band_8', 'Band_9', 'Band_10', 'Band_11', 'Band_12',\n",
       "       'Band_13'],\n",
       "      dtype='object')"
      ]
     },
     "execution_count": 96,
     "metadata": {},
     "output_type": "execute_result"
    }
   ],
   "source": [
    "data.columns"
   ]
  },
  {
   "cell_type": "code",
   "execution_count": 98,
   "id": "c3f8e231",
   "metadata": {},
   "outputs": [],
   "source": [
    "x = data[['Band_3','Band_4','Band_8']]"
   ]
  },
  {
   "cell_type": "code",
   "execution_count": 99,
   "id": "72bcc613",
   "metadata": {},
   "outputs": [
    {
     "data": {
      "text/html": [
       "<div>\n",
       "<style scoped>\n",
       "    .dataframe tbody tr th:only-of-type {\n",
       "        vertical-align: middle;\n",
       "    }\n",
       "\n",
       "    .dataframe tbody tr th {\n",
       "        vertical-align: top;\n",
       "    }\n",
       "\n",
       "    .dataframe thead th {\n",
       "        text-align: right;\n",
       "    }\n",
       "</style>\n",
       "<table border=\"1\" class=\"dataframe\">\n",
       "  <thead>\n",
       "    <tr style=\"text-align: right;\">\n",
       "      <th></th>\n",
       "      <th>Band_3</th>\n",
       "      <th>Band_4</th>\n",
       "      <th>Band_8</th>\n",
       "    </tr>\n",
       "  </thead>\n",
       "  <tbody>\n",
       "    <tr>\n",
       "      <th>0</th>\n",
       "      <td>2127</td>\n",
       "      <td>1941</td>\n",
       "      <td>3948</td>\n",
       "    </tr>\n",
       "    <tr>\n",
       "      <th>1</th>\n",
       "      <td>2147</td>\n",
       "      <td>1933</td>\n",
       "      <td>3951</td>\n",
       "    </tr>\n",
       "    <tr>\n",
       "      <th>2</th>\n",
       "      <td>2147</td>\n",
       "      <td>1933</td>\n",
       "      <td>3951</td>\n",
       "    </tr>\n",
       "    <tr>\n",
       "      <th>3</th>\n",
       "      <td>2136</td>\n",
       "      <td>2005</td>\n",
       "      <td>3850</td>\n",
       "    </tr>\n",
       "    <tr>\n",
       "      <th>4</th>\n",
       "      <td>2216</td>\n",
       "      <td>2114</td>\n",
       "      <td>3818</td>\n",
       "    </tr>\n",
       "    <tr>\n",
       "      <th>...</th>\n",
       "      <td>...</td>\n",
       "      <td>...</td>\n",
       "      <td>...</td>\n",
       "    </tr>\n",
       "    <tr>\n",
       "      <th>26237601</th>\n",
       "      <td>2303</td>\n",
       "      <td>2142</td>\n",
       "      <td>4103</td>\n",
       "    </tr>\n",
       "    <tr>\n",
       "      <th>26237602</th>\n",
       "      <td>2303</td>\n",
       "      <td>2139</td>\n",
       "      <td>4056</td>\n",
       "    </tr>\n",
       "    <tr>\n",
       "      <th>26237603</th>\n",
       "      <td>2184</td>\n",
       "      <td>1920</td>\n",
       "      <td>4413</td>\n",
       "    </tr>\n",
       "    <tr>\n",
       "      <th>26237604</th>\n",
       "      <td>2178</td>\n",
       "      <td>1918</td>\n",
       "      <td>4612</td>\n",
       "    </tr>\n",
       "    <tr>\n",
       "      <th>26237605</th>\n",
       "      <td>2155</td>\n",
       "      <td>1850</td>\n",
       "      <td>4692</td>\n",
       "    </tr>\n",
       "  </tbody>\n",
       "</table>\n",
       "<p>26237606 rows × 3 columns</p>\n",
       "</div>"
      ],
      "text/plain": [
       "          Band_3  Band_4  Band_8\n",
       "0           2127    1941    3948\n",
       "1           2147    1933    3951\n",
       "2           2147    1933    3951\n",
       "3           2136    2005    3850\n",
       "4           2216    2114    3818\n",
       "...          ...     ...     ...\n",
       "26237601    2303    2142    4103\n",
       "26237602    2303    2139    4056\n",
       "26237603    2184    1920    4413\n",
       "26237604    2178    1918    4612\n",
       "26237605    2155    1850    4692\n",
       "\n",
       "[26237606 rows x 3 columns]"
      ]
     },
     "execution_count": 99,
     "metadata": {},
     "output_type": "execute_result"
    }
   ],
   "source": [
    "x"
   ]
  },
  {
   "cell_type": "code",
   "execution_count": 101,
   "id": "5c2d120b",
   "metadata": {},
   "outputs": [],
   "source": [
    "Etah_pred = xgb_load_model.predict(x)"
   ]
  },
  {
   "cell_type": "code",
   "execution_count": 103,
   "id": "847ed7d9",
   "metadata": {},
   "outputs": [],
   "source": [
    "data['prediction']=Etah_pred"
   ]
  },
  {
   "cell_type": "code",
   "execution_count": 105,
   "id": "ff1e53be",
   "metadata": {},
   "outputs": [],
   "source": [
    "data.to_csv('Etah_prediction.csv')"
   ]
  },
  {
   "cell_type": "code",
   "execution_count": null,
   "id": "a969422b",
   "metadata": {},
   "outputs": [],
   "source": []
  }
 ],
 "metadata": {
  "kernelspec": {
   "display_name": "Python 3 (ipykernel)",
   "language": "python",
   "name": "python3"
  },
  "language_info": {
   "codemirror_mode": {
    "name": "ipython",
    "version": 3
   },
   "file_extension": ".py",
   "mimetype": "text/x-python",
   "name": "python",
   "nbconvert_exporter": "python",
   "pygments_lexer": "ipython3",
   "version": "3.9.7"
  }
 },
 "nbformat": 4,
 "nbformat_minor": 5
}
