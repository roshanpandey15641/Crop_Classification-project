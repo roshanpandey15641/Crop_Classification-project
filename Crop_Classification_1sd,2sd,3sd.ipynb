{
 "cells": [
  {
   "cell_type": "code",
   "execution_count": 91,
   "id": "da7a7fa4",
   "metadata": {},
   "outputs": [],
   "source": [
    "import numpy as np\n",
    "import pandas as pd\n",
    "import matplotlib.pyplot as plt\n",
    "import seaborn as sns\n",
    "import os"
   ]
  },
  {
   "cell_type": "code",
   "execution_count": 107,
   "id": "f936d885",
   "metadata": {},
   "outputs": [],
   "source": [
    "df = pd.read_csv(r'D:\\Crop_Classification\\reasi_Clustered_1.csv')"
   ]
  },
  {
   "cell_type": "code",
   "execution_count": 108,
   "id": "39cd8680",
   "metadata": {
    "scrolled": true
   },
   "outputs": [
    {
     "data": {
      "text/html": [
       "<div>\n",
       "<style scoped>\n",
       "    .dataframe tbody tr th:only-of-type {\n",
       "        vertical-align: middle;\n",
       "    }\n",
       "\n",
       "    .dataframe tbody tr th {\n",
       "        vertical-align: top;\n",
       "    }\n",
       "\n",
       "    .dataframe thead th {\n",
       "        text-align: right;\n",
       "    }\n",
       "</style>\n",
       "<table border=\"1\" class=\"dataframe\">\n",
       "  <thead>\n",
       "    <tr style=\"text-align: right;\">\n",
       "      <th></th>\n",
       "      <th>Unnamed: 0</th>\n",
       "      <th>X</th>\n",
       "      <th>Y</th>\n",
       "      <th>Cluster</th>\n",
       "      <th>Class</th>\n",
       "      <th>Band_1</th>\n",
       "      <th>Band_2</th>\n",
       "      <th>Band_3</th>\n",
       "      <th>Band_4</th>\n",
       "      <th>Band_5</th>\n",
       "      <th>Band_6</th>\n",
       "      <th>Band_7</th>\n",
       "      <th>Band_8</th>\n",
       "      <th>Band_9</th>\n",
       "      <th>Band_10</th>\n",
       "      <th>Band_11</th>\n",
       "      <th>Band_12</th>\n",
       "      <th>Band_13</th>\n",
       "    </tr>\n",
       "  </thead>\n",
       "  <tbody>\n",
       "    <tr>\n",
       "      <th>0</th>\n",
       "      <td>0</td>\n",
       "      <td>3511943.937</td>\n",
       "      <td>5041462.72</td>\n",
       "      <td>0</td>\n",
       "      <td>Rice</td>\n",
       "      <td>2016</td>\n",
       "      <td>1784</td>\n",
       "      <td>1731</td>\n",
       "      <td>1511</td>\n",
       "      <td>1874</td>\n",
       "      <td>3387</td>\n",
       "      <td>3860</td>\n",
       "      <td>3945</td>\n",
       "      <td>2344</td>\n",
       "      <td>1015</td>\n",
       "      <td>2652</td>\n",
       "      <td>1754</td>\n",
       "      <td>4301</td>\n",
       "    </tr>\n",
       "    <tr>\n",
       "      <th>1</th>\n",
       "      <td>1</td>\n",
       "      <td>3511953.240</td>\n",
       "      <td>5041462.72</td>\n",
       "      <td>0</td>\n",
       "      <td>Rice</td>\n",
       "      <td>2016</td>\n",
       "      <td>1854</td>\n",
       "      <td>1827</td>\n",
       "      <td>1543</td>\n",
       "      <td>1947</td>\n",
       "      <td>3201</td>\n",
       "      <td>3910</td>\n",
       "      <td>3871</td>\n",
       "      <td>2344</td>\n",
       "      <td>1015</td>\n",
       "      <td>2725</td>\n",
       "      <td>1858</td>\n",
       "      <td>3983</td>\n",
       "    </tr>\n",
       "    <tr>\n",
       "      <th>2</th>\n",
       "      <td>2</td>\n",
       "      <td>3511962.543</td>\n",
       "      <td>5041462.72</td>\n",
       "      <td>0</td>\n",
       "      <td>Rice</td>\n",
       "      <td>2016</td>\n",
       "      <td>1904</td>\n",
       "      <td>1928</td>\n",
       "      <td>1794</td>\n",
       "      <td>1947</td>\n",
       "      <td>3201</td>\n",
       "      <td>3910</td>\n",
       "      <td>4165</td>\n",
       "      <td>2344</td>\n",
       "      <td>1015</td>\n",
       "      <td>2725</td>\n",
       "      <td>1858</td>\n",
       "      <td>3983</td>\n",
       "    </tr>\n",
       "    <tr>\n",
       "      <th>3</th>\n",
       "      <td>3</td>\n",
       "      <td>3511971.845</td>\n",
       "      <td>5041462.72</td>\n",
       "      <td>0</td>\n",
       "      <td>Rice</td>\n",
       "      <td>2011</td>\n",
       "      <td>1941</td>\n",
       "      <td>2003</td>\n",
       "      <td>1878</td>\n",
       "      <td>1932</td>\n",
       "      <td>3201</td>\n",
       "      <td>3763</td>\n",
       "      <td>3697</td>\n",
       "      <td>2352</td>\n",
       "      <td>1015</td>\n",
       "      <td>2672</td>\n",
       "      <td>1816</td>\n",
       "      <td>4022</td>\n",
       "    </tr>\n",
       "    <tr>\n",
       "      <th>4</th>\n",
       "      <td>4</td>\n",
       "      <td>3511981.148</td>\n",
       "      <td>5041462.72</td>\n",
       "      <td>0</td>\n",
       "      <td>Rice</td>\n",
       "      <td>2011</td>\n",
       "      <td>1941</td>\n",
       "      <td>2003</td>\n",
       "      <td>1878</td>\n",
       "      <td>1932</td>\n",
       "      <td>3201</td>\n",
       "      <td>3763</td>\n",
       "      <td>3697</td>\n",
       "      <td>2352</td>\n",
       "      <td>1015</td>\n",
       "      <td>2672</td>\n",
       "      <td>1816</td>\n",
       "      <td>4022</td>\n",
       "    </tr>\n",
       "  </tbody>\n",
       "</table>\n",
       "</div>"
      ],
      "text/plain": [
       "   Unnamed: 0            X           Y  Cluster Class  Band_1  Band_2  Band_3  \\\n",
       "0           0  3511943.937  5041462.72        0  Rice    2016    1784    1731   \n",
       "1           1  3511953.240  5041462.72        0  Rice    2016    1854    1827   \n",
       "2           2  3511962.543  5041462.72        0  Rice    2016    1904    1928   \n",
       "3           3  3511971.845  5041462.72        0  Rice    2011    1941    2003   \n",
       "4           4  3511981.148  5041462.72        0  Rice    2011    1941    2003   \n",
       "\n",
       "   Band_4  Band_5  Band_6  Band_7  Band_8  Band_9  Band_10  Band_11  Band_12  \\\n",
       "0    1511    1874    3387    3860    3945    2344     1015     2652     1754   \n",
       "1    1543    1947    3201    3910    3871    2344     1015     2725     1858   \n",
       "2    1794    1947    3201    3910    4165    2344     1015     2725     1858   \n",
       "3    1878    1932    3201    3763    3697    2352     1015     2672     1816   \n",
       "4    1878    1932    3201    3763    3697    2352     1015     2672     1816   \n",
       "\n",
       "   Band_13  \n",
       "0     4301  \n",
       "1     3983  \n",
       "2     3983  \n",
       "3     4022  \n",
       "4     4022  "
      ]
     },
     "execution_count": 108,
     "metadata": {},
     "output_type": "execute_result"
    }
   ],
   "source": [
    "df.head()"
   ]
  },
  {
   "cell_type": "code",
   "execution_count": null,
   "id": "551d1a56",
   "metadata": {},
   "outputs": [],
   "source": []
  },
  {
   "cell_type": "code",
   "execution_count": 109,
   "id": "3aca8bcc",
   "metadata": {},
   "outputs": [
    {
     "name": "stdout",
     "output_type": "stream",
     "text": [
      "<class 'pandas.core.frame.DataFrame'>\n",
      "RangeIndex: 2488873 entries, 0 to 2488872\n",
      "Data columns (total 18 columns):\n",
      " #   Column      Dtype  \n",
      "---  ------      -----  \n",
      " 0   Unnamed: 0  int64  \n",
      " 1   X           float64\n",
      " 2   Y           float64\n",
      " 3   Cluster     int64  \n",
      " 4   Class       object \n",
      " 5   Band_1      int64  \n",
      " 6   Band_2      int64  \n",
      " 7   Band_3      int64  \n",
      " 8   Band_4      int64  \n",
      " 9   Band_5      int64  \n",
      " 10  Band_6      int64  \n",
      " 11  Band_7      int64  \n",
      " 12  Band_8      int64  \n",
      " 13  Band_9      int64  \n",
      " 14  Band_10     int64  \n",
      " 15  Band_11     int64  \n",
      " 16  Band_12     int64  \n",
      " 17  Band_13     int64  \n",
      "dtypes: float64(2), int64(15), object(1)\n",
      "memory usage: 341.8+ MB\n"
     ]
    }
   ],
   "source": [
    "df.info()"
   ]
  },
  {
   "cell_type": "code",
   "execution_count": 110,
   "id": "aec6145a",
   "metadata": {},
   "outputs": [
    {
     "data": {
      "text/plain": [
       "array([0, 1, 2], dtype=int64)"
      ]
     },
     "execution_count": 110,
     "metadata": {},
     "output_type": "execute_result"
    }
   ],
   "source": [
    "df['Cluster'].unique()"
   ]
  },
  {
   "cell_type": "code",
   "execution_count": 111,
   "id": "e53a6708",
   "metadata": {},
   "outputs": [],
   "source": [
    "df['Cluster'] = df['Cluster'].replace(2,1)"
   ]
  },
  {
   "cell_type": "code",
   "execution_count": 112,
   "id": "b036ee84",
   "metadata": {},
   "outputs": [
    {
     "data": {
      "text/plain": [
       "array([0, 1], dtype=int64)"
      ]
     },
     "execution_count": 112,
     "metadata": {},
     "output_type": "execute_result"
    }
   ],
   "source": [
    "df['Cluster'].unique()"
   ]
  },
  {
   "cell_type": "code",
   "execution_count": 113,
   "id": "8be91393",
   "metadata": {},
   "outputs": [],
   "source": [
    "df.rename(columns = {'Cluster':'maize_mask_reasi'},inplace=True)"
   ]
  },
  {
   "cell_type": "code",
   "execution_count": 115,
   "id": "14251b51",
   "metadata": {},
   "outputs": [
    {
     "data": {
      "text/html": [
       "<div>\n",
       "<style scoped>\n",
       "    .dataframe tbody tr th:only-of-type {\n",
       "        vertical-align: middle;\n",
       "    }\n",
       "\n",
       "    .dataframe tbody tr th {\n",
       "        vertical-align: top;\n",
       "    }\n",
       "\n",
       "    .dataframe thead th {\n",
       "        text-align: right;\n",
       "    }\n",
       "</style>\n",
       "<table border=\"1\" class=\"dataframe\">\n",
       "  <thead>\n",
       "    <tr style=\"text-align: right;\">\n",
       "      <th></th>\n",
       "      <th>Unnamed: 0</th>\n",
       "      <th>X</th>\n",
       "      <th>Y</th>\n",
       "      <th>maize_mask_reasi</th>\n",
       "      <th>Class</th>\n",
       "      <th>Band_1</th>\n",
       "      <th>Band_2</th>\n",
       "      <th>Band_3</th>\n",
       "      <th>Band_4</th>\n",
       "      <th>Band_5</th>\n",
       "      <th>Band_6</th>\n",
       "      <th>Band_7</th>\n",
       "      <th>Band_8</th>\n",
       "      <th>Band_9</th>\n",
       "      <th>Band_10</th>\n",
       "      <th>Band_11</th>\n",
       "      <th>Band_12</th>\n",
       "      <th>Band_13</th>\n",
       "    </tr>\n",
       "  </thead>\n",
       "  <tbody>\n",
       "    <tr>\n",
       "      <th>0</th>\n",
       "      <td>0</td>\n",
       "      <td>3511943.937</td>\n",
       "      <td>5041462.720</td>\n",
       "      <td>0</td>\n",
       "      <td>Rice</td>\n",
       "      <td>2016</td>\n",
       "      <td>1784</td>\n",
       "      <td>1731</td>\n",
       "      <td>1511</td>\n",
       "      <td>1874</td>\n",
       "      <td>3387</td>\n",
       "      <td>3860</td>\n",
       "      <td>3945</td>\n",
       "      <td>2344</td>\n",
       "      <td>1015</td>\n",
       "      <td>2652</td>\n",
       "      <td>1754</td>\n",
       "      <td>4301</td>\n",
       "    </tr>\n",
       "    <tr>\n",
       "      <th>1</th>\n",
       "      <td>1</td>\n",
       "      <td>3511953.240</td>\n",
       "      <td>5041462.720</td>\n",
       "      <td>0</td>\n",
       "      <td>Rice</td>\n",
       "      <td>2016</td>\n",
       "      <td>1854</td>\n",
       "      <td>1827</td>\n",
       "      <td>1543</td>\n",
       "      <td>1947</td>\n",
       "      <td>3201</td>\n",
       "      <td>3910</td>\n",
       "      <td>3871</td>\n",
       "      <td>2344</td>\n",
       "      <td>1015</td>\n",
       "      <td>2725</td>\n",
       "      <td>1858</td>\n",
       "      <td>3983</td>\n",
       "    </tr>\n",
       "    <tr>\n",
       "      <th>2</th>\n",
       "      <td>2</td>\n",
       "      <td>3511962.543</td>\n",
       "      <td>5041462.720</td>\n",
       "      <td>0</td>\n",
       "      <td>Rice</td>\n",
       "      <td>2016</td>\n",
       "      <td>1904</td>\n",
       "      <td>1928</td>\n",
       "      <td>1794</td>\n",
       "      <td>1947</td>\n",
       "      <td>3201</td>\n",
       "      <td>3910</td>\n",
       "      <td>4165</td>\n",
       "      <td>2344</td>\n",
       "      <td>1015</td>\n",
       "      <td>2725</td>\n",
       "      <td>1858</td>\n",
       "      <td>3983</td>\n",
       "    </tr>\n",
       "    <tr>\n",
       "      <th>3</th>\n",
       "      <td>3</td>\n",
       "      <td>3511971.845</td>\n",
       "      <td>5041462.720</td>\n",
       "      <td>0</td>\n",
       "      <td>Rice</td>\n",
       "      <td>2011</td>\n",
       "      <td>1941</td>\n",
       "      <td>2003</td>\n",
       "      <td>1878</td>\n",
       "      <td>1932</td>\n",
       "      <td>3201</td>\n",
       "      <td>3763</td>\n",
       "      <td>3697</td>\n",
       "      <td>2352</td>\n",
       "      <td>1015</td>\n",
       "      <td>2672</td>\n",
       "      <td>1816</td>\n",
       "      <td>4022</td>\n",
       "    </tr>\n",
       "    <tr>\n",
       "      <th>4</th>\n",
       "      <td>4</td>\n",
       "      <td>3511981.148</td>\n",
       "      <td>5041462.720</td>\n",
       "      <td>0</td>\n",
       "      <td>Rice</td>\n",
       "      <td>2011</td>\n",
       "      <td>1941</td>\n",
       "      <td>2003</td>\n",
       "      <td>1878</td>\n",
       "      <td>1932</td>\n",
       "      <td>3201</td>\n",
       "      <td>3763</td>\n",
       "      <td>3697</td>\n",
       "      <td>2352</td>\n",
       "      <td>1015</td>\n",
       "      <td>2672</td>\n",
       "      <td>1816</td>\n",
       "      <td>4022</td>\n",
       "    </tr>\n",
       "    <tr>\n",
       "      <th>...</th>\n",
       "      <td>...</td>\n",
       "      <td>...</td>\n",
       "      <td>...</td>\n",
       "      <td>...</td>\n",
       "      <td>...</td>\n",
       "      <td>...</td>\n",
       "      <td>...</td>\n",
       "      <td>...</td>\n",
       "      <td>...</td>\n",
       "      <td>...</td>\n",
       "      <td>...</td>\n",
       "      <td>...</td>\n",
       "      <td>...</td>\n",
       "      <td>...</td>\n",
       "      <td>...</td>\n",
       "      <td>...</td>\n",
       "      <td>...</td>\n",
       "      <td>...</td>\n",
       "    </tr>\n",
       "    <tr>\n",
       "      <th>2488868</th>\n",
       "      <td>2488868</td>\n",
       "      <td>3531739.907</td>\n",
       "      <td>4977777.003</td>\n",
       "      <td>1</td>\n",
       "      <td>NaN</td>\n",
       "      <td>2331</td>\n",
       "      <td>1979</td>\n",
       "      <td>1794</td>\n",
       "      <td>1558</td>\n",
       "      <td>1654</td>\n",
       "      <td>2116</td>\n",
       "      <td>2265</td>\n",
       "      <td>2199</td>\n",
       "      <td>1193</td>\n",
       "      <td>1010</td>\n",
       "      <td>1530</td>\n",
       "      <td>1299</td>\n",
       "      <td>2270</td>\n",
       "    </tr>\n",
       "    <tr>\n",
       "      <th>2488869</th>\n",
       "      <td>2488869</td>\n",
       "      <td>3531749.209</td>\n",
       "      <td>4977777.003</td>\n",
       "      <td>1</td>\n",
       "      <td>NaN</td>\n",
       "      <td>2263</td>\n",
       "      <td>1987</td>\n",
       "      <td>1792</td>\n",
       "      <td>1555</td>\n",
       "      <td>1620</td>\n",
       "      <td>2108</td>\n",
       "      <td>2258</td>\n",
       "      <td>2109</td>\n",
       "      <td>1213</td>\n",
       "      <td>1009</td>\n",
       "      <td>1494</td>\n",
       "      <td>1246</td>\n",
       "      <td>2242</td>\n",
       "    </tr>\n",
       "    <tr>\n",
       "      <th>2488870</th>\n",
       "      <td>2488870</td>\n",
       "      <td>3531758.512</td>\n",
       "      <td>4977777.003</td>\n",
       "      <td>1</td>\n",
       "      <td>NaN</td>\n",
       "      <td>2263</td>\n",
       "      <td>2015</td>\n",
       "      <td>1815</td>\n",
       "      <td>1605</td>\n",
       "      <td>1620</td>\n",
       "      <td>2108</td>\n",
       "      <td>2258</td>\n",
       "      <td>2115</td>\n",
       "      <td>1213</td>\n",
       "      <td>1009</td>\n",
       "      <td>1494</td>\n",
       "      <td>1246</td>\n",
       "      <td>2242</td>\n",
       "    </tr>\n",
       "    <tr>\n",
       "      <th>2488871</th>\n",
       "      <td>2488871</td>\n",
       "      <td>3531739.907</td>\n",
       "      <td>4977767.700</td>\n",
       "      <td>1</td>\n",
       "      <td>NaN</td>\n",
       "      <td>2331</td>\n",
       "      <td>1979</td>\n",
       "      <td>1794</td>\n",
       "      <td>1558</td>\n",
       "      <td>1654</td>\n",
       "      <td>2116</td>\n",
       "      <td>2265</td>\n",
       "      <td>2199</td>\n",
       "      <td>1193</td>\n",
       "      <td>1010</td>\n",
       "      <td>1530</td>\n",
       "      <td>1299</td>\n",
       "      <td>2270</td>\n",
       "    </tr>\n",
       "    <tr>\n",
       "      <th>2488872</th>\n",
       "      <td>2488872</td>\n",
       "      <td>3531749.209</td>\n",
       "      <td>4977767.700</td>\n",
       "      <td>1</td>\n",
       "      <td>NaN</td>\n",
       "      <td>2263</td>\n",
       "      <td>1987</td>\n",
       "      <td>1792</td>\n",
       "      <td>1555</td>\n",
       "      <td>1620</td>\n",
       "      <td>2108</td>\n",
       "      <td>2258</td>\n",
       "      <td>2109</td>\n",
       "      <td>1213</td>\n",
       "      <td>1009</td>\n",
       "      <td>1494</td>\n",
       "      <td>1246</td>\n",
       "      <td>2242</td>\n",
       "    </tr>\n",
       "  </tbody>\n",
       "</table>\n",
       "<p>2488873 rows × 18 columns</p>\n",
       "</div>"
      ],
      "text/plain": [
       "         Unnamed: 0            X            Y  maize_mask_reasi Class  Band_1  \\\n",
       "0                 0  3511943.937  5041462.720                 0  Rice    2016   \n",
       "1                 1  3511953.240  5041462.720                 0  Rice    2016   \n",
       "2                 2  3511962.543  5041462.720                 0  Rice    2016   \n",
       "3                 3  3511971.845  5041462.720                 0  Rice    2011   \n",
       "4                 4  3511981.148  5041462.720                 0  Rice    2011   \n",
       "...             ...          ...          ...               ...   ...     ...   \n",
       "2488868     2488868  3531739.907  4977777.003                 1   NaN    2331   \n",
       "2488869     2488869  3531749.209  4977777.003                 1   NaN    2263   \n",
       "2488870     2488870  3531758.512  4977777.003                 1   NaN    2263   \n",
       "2488871     2488871  3531739.907  4977767.700                 1   NaN    2331   \n",
       "2488872     2488872  3531749.209  4977767.700                 1   NaN    2263   \n",
       "\n",
       "         Band_2  Band_3  Band_4  Band_5  Band_6  Band_7  Band_8  Band_9  \\\n",
       "0          1784    1731    1511    1874    3387    3860    3945    2344   \n",
       "1          1854    1827    1543    1947    3201    3910    3871    2344   \n",
       "2          1904    1928    1794    1947    3201    3910    4165    2344   \n",
       "3          1941    2003    1878    1932    3201    3763    3697    2352   \n",
       "4          1941    2003    1878    1932    3201    3763    3697    2352   \n",
       "...         ...     ...     ...     ...     ...     ...     ...     ...   \n",
       "2488868    1979    1794    1558    1654    2116    2265    2199    1193   \n",
       "2488869    1987    1792    1555    1620    2108    2258    2109    1213   \n",
       "2488870    2015    1815    1605    1620    2108    2258    2115    1213   \n",
       "2488871    1979    1794    1558    1654    2116    2265    2199    1193   \n",
       "2488872    1987    1792    1555    1620    2108    2258    2109    1213   \n",
       "\n",
       "         Band_10  Band_11  Band_12  Band_13  \n",
       "0           1015     2652     1754     4301  \n",
       "1           1015     2725     1858     3983  \n",
       "2           1015     2725     1858     3983  \n",
       "3           1015     2672     1816     4022  \n",
       "4           1015     2672     1816     4022  \n",
       "...          ...      ...      ...      ...  \n",
       "2488868     1010     1530     1299     2270  \n",
       "2488869     1009     1494     1246     2242  \n",
       "2488870     1009     1494     1246     2242  \n",
       "2488871     1010     1530     1299     2270  \n",
       "2488872     1009     1494     1246     2242  \n",
       "\n",
       "[2488873 rows x 18 columns]"
      ]
     },
     "execution_count": 115,
     "metadata": {},
     "output_type": "execute_result"
    }
   ],
   "source": [
    "df"
   ]
  },
  {
   "cell_type": "code",
   "execution_count": 116,
   "id": "16540cc6",
   "metadata": {},
   "outputs": [
    {
     "name": "stdout",
     "output_type": "stream",
     "text": [
      "<class 'pandas.core.frame.DataFrame'>\n",
      "RangeIndex: 2488873 entries, 0 to 2488872\n",
      "Data columns (total 18 columns):\n",
      " #   Column            Dtype  \n",
      "---  ------            -----  \n",
      " 0   Unnamed: 0        int64  \n",
      " 1   X                 float64\n",
      " 2   Y                 float64\n",
      " 3   maize_mask_reasi  int64  \n",
      " 4   Class             object \n",
      " 5   Band_1            int64  \n",
      " 6   Band_2            int64  \n",
      " 7   Band_3            int64  \n",
      " 8   Band_4            int64  \n",
      " 9   Band_5            int64  \n",
      " 10  Band_6            int64  \n",
      " 11  Band_7            int64  \n",
      " 12  Band_8            int64  \n",
      " 13  Band_9            int64  \n",
      " 14  Band_10           int64  \n",
      " 15  Band_11           int64  \n",
      " 16  Band_12           int64  \n",
      " 17  Band_13           int64  \n",
      "dtypes: float64(2), int64(15), object(1)\n",
      "memory usage: 341.8+ MB\n"
     ]
    }
   ],
   "source": [
    "df.info()"
   ]
  },
  {
   "cell_type": "code",
   "execution_count": 118,
   "id": "6d943a73",
   "metadata": {},
   "outputs": [
    {
     "data": {
      "text/plain": [
       "<seaborn.axisgrid.FacetGrid at 0x2319472b700>"
      ]
     },
     "execution_count": 118,
     "metadata": {},
     "output_type": "execute_result"
    },
    {
     "data": {
      "image/png": "[encoded data removed]",
      "text/plain": [
       "<Figure size 360x360 with 1 Axes>"
      ]
     },
     "metadata": {
      "needs_background": "light"
     },
     "output_type": "display_data"
    }
   ],
   "source": [
    "sns.displot(df['Band_1'])"
   ]
  },
  {
   "cell_type": "code",
   "execution_count": 119,
   "id": "cdd09da3",
   "metadata": {},
   "outputs": [
    {
     "data": {
      "text/plain": [
       "6908"
      ]
     },
     "execution_count": 119,
     "metadata": {},
     "output_type": "execute_result"
    }
   ],
   "source": [
    "df['Band_1'].max()"
   ]
  },
  {
   "cell_type": "code",
   "execution_count": 120,
   "id": "a7b2f477",
   "metadata": {},
   "outputs": [],
   "source": [
    "mean_band={}\n",
    "std_band={}\n",
    "mean_value = df[['Band_3','Band_4','Band_8']].mean()\n",
    "std_value = df[['Band_3','Band_4','Band_8']].std()\n",
    "for m_band, i in zip(['Band_3','Band_4','Band_8'],range(len(mean_value))):\n",
    "    mean_band[m_band] = mean_value[i]\n",
    "for s_band, j in zip(['Band_3','Band_4','Band_8'],range(len(std_value))):\n",
    "    std_band[s_band] = std_value[j]\n",
    "upper_value=[]\n",
    "lower_value=[]\n",
    "upper_value_2=[]\n",
    "lower_value_2=[]\n",
    "upper_value_3=[]\n",
    "lower_value_3=[]\n",
    "sd1_key=[]\n",
    "for band3 in std_band:\n",
    "    sd1_key.append(band3)\n",
    "    s = mean_band[band3]+std_band[band3]\n",
    "    s1 = mean_band[band3]-std_band[band3]\n",
    "    upper_value.append(s)\n",
    "    lower_value.append(s1)\n",
    "    SD_1_up = dict(zip(sd1_key,upper_value))\n",
    "    SD_1_lo = dict(zip(sd1_key,lower_value))\n",
    "for band_4 in std_band:\n",
    "    s2 = mean_band[band_4]+2*std_band[band_4]\n",
    "    s3 = mean_band[band_4]-2*std_band[band_4]\n",
    "    upper_value_2.append(s2)\n",
    "    lower_value_2.append(s3)\n",
    "    SD_2_up = dict(zip(sd1_key,upper_value_2))\n",
    "    SD_2_lo = dict(zip(sd1_key,lower_value_2))\n",
    "for band_8 in std_band:\n",
    "    s4 = mean_band[band_8]+3*std_band[band_8]\n",
    "    s5 = mean_band[band_8]-3*std_band[band_8]\n",
    "    upper_value_3.append(s4)\n",
    "    lower_value_3.append(s5)\n",
    "    SD_3_up = dict(zip(sd1_key,upper_value_3))\n",
    "    SD_3_lo = dict(zip(sd1_key,lower_value_3))\n"
   ]
  },
  {
   "cell_type": "code",
   "execution_count": 121,
   "id": "036c149a",
   "metadata": {},
   "outputs": [
    {
     "data": {
      "text/plain": [
       "{'Band_3': 2232.9226266817614,\n",
       " 'Band_4': 2040.9115456501506,\n",
       " 'Band_8': 4339.522158386847}"
      ]
     },
     "execution_count": 121,
     "metadata": {},
     "output_type": "execute_result"
    }
   ],
   "source": [
    "SD_1_up"
   ]
  },
  {
   "cell_type": "code",
   "execution_count": 122,
   "id": "e100b543",
   "metadata": {},
   "outputs": [
    {
     "data": {
      "text/plain": [
       "{'Band_3': 1662.162040956965,\n",
       " 'Band_4': 1364.1315393124007,\n",
       " 'Band_8': 3313.3484276173403}"
      ]
     },
     "execution_count": 122,
     "metadata": {},
     "output_type": "execute_result"
    }
   ],
   "source": [
    "SD_1_lo"
   ]
  },
  {
   "cell_type": "code",
   "execution_count": 123,
   "id": "22b7a36e",
   "metadata": {},
   "outputs": [],
   "source": [
    "df2 = df.copy()"
   ]
  },
  {
   "cell_type": "code",
   "execution_count": 129,
   "id": "cca5ae0b",
   "metadata": {
    "scrolled": true
   },
   "outputs": [
    {
     "data": {
      "text/plain": [
       "Index(['Unnamed: 0', 'X', 'Y', 'maize_mask_reasi', 'Class', 'Band_1', 'Band_2',\n",
       "       'Band_3', 'Band_4', 'Band_5', 'Band_6', 'Band_7', 'Band_8', 'Band_9',\n",
       "       'Band_10', 'Band_11', 'Band_12', 'Band_13'],\n",
       "      dtype='object')"
      ]
     },
     "execution_count": 129,
     "metadata": {},
     "output_type": "execute_result"
    }
   ],
   "source": [
    "df2.columns"
   ]
  },
  {
   "cell_type": "code",
   "execution_count": 130,
   "id": "cadde9af",
   "metadata": {},
   "outputs": [],
   "source": [
    "df2.drop(df2[np.logical_or(df2['Band_3']<SD_1_lo['Band_3'],df2['Band_3']>SD_1_up['Band_3'])].index,axis=0,inplace=True)\n",
    "df2.drop(df2[np.logical_or(df2['Band_4']<SD_1_lo['Band_4'],df2['Band_4']>SD_1_up['Band_4'])].index,axis=0,inplace=True)\n",
    "df2.drop(df2[np.logical_or(df2['Band_8']<SD_1_lo['Band_8'],df2['Band_8']>SD_1_up['Band_8'])].index,axis=0,inplace=True)\n",
    "df2.reset_index(inplace=True,drop=True)"
   ]
  },
  {
   "cell_type": "code",
   "execution_count": 131,
   "id": "b9dfc70c",
   "metadata": {},
   "outputs": [
    {
     "name": "stdout",
     "output_type": "stream",
     "text": [
      "4339\n",
      "3314\n"
     ]
    }
   ],
   "source": [
    "print(df2['Band_8'].max())\n",
    "print(df2['Band_8'].min())"
   ]
  },
  {
   "cell_type": "code",
   "execution_count": 132,
   "id": "6f6ee4a1",
   "metadata": {},
   "outputs": [
    {
     "data": {
      "text/plain": [
       "71.5564835971944"
      ]
     },
     "execution_count": 132,
     "metadata": {},
     "output_type": "execute_result"
    }
   ],
   "source": [
    "len(df2)/len(df)*100"
   ]
  },
  {
   "cell_type": "code",
   "execution_count": 133,
   "id": "6b8e653d",
   "metadata": {},
   "outputs": [],
   "source": [
    "df3 = df.copy()\n",
    "df3.drop(df3[np.logical_or(df3['Band_3']<SD_2_lo['Band_3'],df3['Band_3']>SD_2_up['Band_3'])].index,axis=0,inplace=True)\n",
    "df3.drop(df3[np.logical_or(df3['Band_4']<SD_2_lo['Band_4'],df3['Band_4']>SD_2_up['Band_4'])].index,axis=0,inplace=True)\n",
    "df3.drop(df3[np.logical_or(df3['Band_8']<SD_2_lo['Band_8'],df3['Band_8']>SD_2_up['Band_8'])].index,axis=0,inplace=True)\n",
    "df3.reset_index(inplace=True,drop=True)"
   ]
  },
  {
   "cell_type": "code",
   "execution_count": 134,
   "id": "70144aea",
   "metadata": {},
   "outputs": [
    {
     "data": {
      "text/plain": [
       "{'Band_3': 2518.3029195441595,\n",
       " 'Band_4': 2379.3015488190254,\n",
       " 'Band_8': 4852.609023771601}"
      ]
     },
     "execution_count": 134,
     "metadata": {},
     "output_type": "execute_result"
    }
   ],
   "source": [
    "SD_2_up"
   ]
  },
  {
   "cell_type": "code",
   "execution_count": 135,
   "id": "c6564e12",
   "metadata": {},
   "outputs": [
    {
     "data": {
      "text/plain": [
       "{'Band_3': 1376.781748094567,\n",
       " 'Band_4': 1025.741536143526,\n",
       " 'Band_8': 2800.2615622325866}"
      ]
     },
     "execution_count": 135,
     "metadata": {},
     "output_type": "execute_result"
    }
   ],
   "source": [
    "SD_2_lo"
   ]
  },
  {
   "cell_type": "code",
   "execution_count": 136,
   "id": "844bfac6",
   "metadata": {},
   "outputs": [
    {
     "name": "stdout",
     "output_type": "stream",
     "text": [
      "4852\n",
      "2801\n"
     ]
    }
   ],
   "source": [
    "print(df3['Band_8'].max())\n",
    "print(df3['Band_8'].min())"
   ]
  },
  {
   "cell_type": "code",
   "execution_count": 137,
   "id": "cfa16782",
   "metadata": {},
   "outputs": [
    {
     "data": {
      "text/plain": [
       "94.17515477888988"
      ]
     },
     "execution_count": 137,
     "metadata": {},
     "output_type": "execute_result"
    }
   ],
   "source": [
    "len(df3)/len(df)*100"
   ]
  },
  {
   "cell_type": "code",
   "execution_count": 138,
   "id": "2419a91a",
   "metadata": {},
   "outputs": [],
   "source": [
    "df4 = df.copy()\n",
    "df4.drop(df4[np.logical_or(df4['Band_3']<SD_3_lo['Band_3'],df4['Band_3']>SD_3_up['Band_3'])].index,axis=0,inplace=True)\n",
    "df4.drop(df4[np.logical_or(df4['Band_4']<SD_3_lo['Band_4'],df4['Band_4']>SD_3_up['Band_4'])].index,axis=0,inplace=True)\n",
    "df4.drop(df4[np.logical_or(df4['Band_8']<SD_3_lo['Band_8'],df4['Band_8']>SD_3_up['Band_8'])].index,axis=0,inplace=True)\n",
    "df4.reset_index(inplace=True,drop=True)"
   ]
  },
  {
   "cell_type": "code",
   "execution_count": 139,
   "id": "01d29900",
   "metadata": {},
   "outputs": [
    {
     "data": {
      "text/plain": [
       "{'Band_3': 2803.6832124065572,\n",
       " 'Band_4': 2717.6915519879003,\n",
       " 'Band_8': 5365.695889156354}"
      ]
     },
     "execution_count": 139,
     "metadata": {},
     "output_type": "execute_result"
    }
   ],
   "source": [
    "SD_3_up"
   ]
  },
  {
   "cell_type": "code",
   "execution_count": 140,
   "id": "96258c96",
   "metadata": {},
   "outputs": [
    {
     "data": {
      "text/plain": [
       "{'Band_3': 1091.4014552321692,\n",
       " 'Band_4': 687.351532974651,\n",
       " 'Band_8': 2287.1746968478333}"
      ]
     },
     "execution_count": 140,
     "metadata": {},
     "output_type": "execute_result"
    }
   ],
   "source": [
    "SD_3_lo"
   ]
  },
  {
   "cell_type": "code",
   "execution_count": 141,
   "id": "3d689929",
   "metadata": {},
   "outputs": [
    {
     "name": "stdout",
     "output_type": "stream",
     "text": [
      "4852\n",
      "2801\n"
     ]
    }
   ],
   "source": [
    "print(df3['Band_8'].max())\n",
    "print(df3['Band_8'].min())"
   ]
  },
  {
   "cell_type": "code",
   "execution_count": 142,
   "id": "35ec1002",
   "metadata": {},
   "outputs": [
    {
     "data": {
      "text/plain": [
       "<seaborn.axisgrid.FacetGrid at 0x23194759880>"
      ]
     },
     "execution_count": 142,
     "metadata": {},
     "output_type": "execute_result"
    },
    {
     "data": {
      "image/png": "[encoded data removed]",
      "text/plain": [
       "<Figure size 360x360 with 1 Axes>"
      ]
     },
     "metadata": {
      "needs_background": "light"
     },
     "output_type": "display_data"
    }
   ],
   "source": [
    "sns.displot(df4['Band_8'])"
   ]
  },
  {
   "cell_type": "code",
   "execution_count": 143,
   "id": "49cc94ce",
   "metadata": {},
   "outputs": [
    {
     "data": {
      "text/html": [
       "<div>\n",
       "<style scoped>\n",
       "    .dataframe tbody tr th:only-of-type {\n",
       "        vertical-align: middle;\n",
       "    }\n",
       "\n",
       "    .dataframe tbody tr th {\n",
       "        vertical-align: top;\n",
       "    }\n",
       "\n",
       "    .dataframe thead th {\n",
       "        text-align: right;\n",
       "    }\n",
       "</style>\n",
       "<table border=\"1\" class=\"dataframe\">\n",
       "  <thead>\n",
       "    <tr style=\"text-align: right;\">\n",
       "      <th></th>\n",
       "      <th>Unnamed: 0</th>\n",
       "      <th>X</th>\n",
       "      <th>Y</th>\n",
       "      <th>maize_mask_reasi</th>\n",
       "      <th>Class</th>\n",
       "      <th>Band_1</th>\n",
       "      <th>Band_2</th>\n",
       "      <th>Band_3</th>\n",
       "      <th>Band_4</th>\n",
       "      <th>Band_5</th>\n",
       "      <th>Band_6</th>\n",
       "      <th>Band_7</th>\n",
       "      <th>Band_8</th>\n",
       "      <th>Band_9</th>\n",
       "      <th>Band_10</th>\n",
       "      <th>Band_11</th>\n",
       "      <th>Band_12</th>\n",
       "      <th>Band_13</th>\n",
       "    </tr>\n",
       "  </thead>\n",
       "  <tbody>\n",
       "    <tr>\n",
       "      <th>0</th>\n",
       "      <td>0</td>\n",
       "      <td>3511943.937</td>\n",
       "      <td>5041462.72</td>\n",
       "      <td>0</td>\n",
       "      <td>Rice</td>\n",
       "      <td>2016</td>\n",
       "      <td>1784</td>\n",
       "      <td>1731</td>\n",
       "      <td>1511</td>\n",
       "      <td>1874</td>\n",
       "      <td>3387</td>\n",
       "      <td>3860</td>\n",
       "      <td>3945</td>\n",
       "      <td>2344</td>\n",
       "      <td>1015</td>\n",
       "      <td>2652</td>\n",
       "      <td>1754</td>\n",
       "      <td>4301</td>\n",
       "    </tr>\n",
       "    <tr>\n",
       "      <th>1</th>\n",
       "      <td>1</td>\n",
       "      <td>3511953.240</td>\n",
       "      <td>5041462.72</td>\n",
       "      <td>0</td>\n",
       "      <td>Rice</td>\n",
       "      <td>2016</td>\n",
       "      <td>1854</td>\n",
       "      <td>1827</td>\n",
       "      <td>1543</td>\n",
       "      <td>1947</td>\n",
       "      <td>3201</td>\n",
       "      <td>3910</td>\n",
       "      <td>3871</td>\n",
       "      <td>2344</td>\n",
       "      <td>1015</td>\n",
       "      <td>2725</td>\n",
       "      <td>1858</td>\n",
       "      <td>3983</td>\n",
       "    </tr>\n",
       "  </tbody>\n",
       "</table>\n",
       "</div>"
      ],
      "text/plain": [
       "   Unnamed: 0            X           Y  maize_mask_reasi Class  Band_1  \\\n",
       "0           0  3511943.937  5041462.72                 0  Rice    2016   \n",
       "1           1  3511953.240  5041462.72                 0  Rice    2016   \n",
       "\n",
       "   Band_2  Band_3  Band_4  Band_5  Band_6  Band_7  Band_8  Band_9  Band_10  \\\n",
       "0    1784    1731    1511    1874    3387    3860    3945    2344     1015   \n",
       "1    1854    1827    1543    1947    3201    3910    3871    2344     1015   \n",
       "\n",
       "   Band_11  Band_12  Band_13  \n",
       "0     2652     1754     4301  \n",
       "1     2725     1858     3983  "
      ]
     },
     "execution_count": 143,
     "metadata": {},
     "output_type": "execute_result"
    }
   ],
   "source": [
    "df4.head(2)"
   ]
  },
  {
   "cell_type": "code",
   "execution_count": null,
   "id": "a4f9bacf",
   "metadata": {},
   "outputs": [],
   "source": []
  },
  {
   "cell_type": "code",
   "execution_count": 145,
   "id": "b376e031",
   "metadata": {},
   "outputs": [],
   "source": [
    "x=df4[['Band_3','Band_4','Band_8']]\n",
    "y=df4['maize_mask_reasi']"
   ]
  },
  {
   "cell_type": "code",
   "execution_count": 146,
   "id": "51f89887",
   "metadata": {},
   "outputs": [],
   "source": [
    "from sklearn.model_selection import train_test_split\n",
    "X_train,X_test,Y_train,Y_test = train_test_split(x,y,test_size=0.3,random_state=51)"
   ]
  },
  {
   "cell_type": "markdown",
   "id": "69935f1a",
   "metadata": {},
   "source": [
    "# rfc_model"
   ]
  },
  {
   "cell_type": "code",
   "execution_count": 147,
   "id": "6eee66e3",
   "metadata": {},
   "outputs": [],
   "source": [
    "from sklearn.model_selection import GridSearchCV\n",
    "from sklearn.ensemble import RandomForestClassifier\n",
    "from sklearn.metrics import f1_score, confusion_matrix"
   ]
  },
  {
   "cell_type": "code",
   "execution_count": 148,
   "id": "c1531293",
   "metadata": {},
   "outputs": [],
   "source": [
    "rfc_model = RandomForestClassifier(n_estimators=50,criterion='gini',max_depth=10)\n",
    "rfc_model.fit(X_train,Y_train)\n",
    "rfc_train_pred = rfc_model.predict(X_train)\n",
    "rfc_test_pred = rfc_model.predict(X_test)"
   ]
  },
  {
   "cell_type": "code",
   "execution_count": 149,
   "id": "1fec2306",
   "metadata": {},
   "outputs": [
    {
     "name": "stdout",
     "output_type": "stream",
     "text": [
      "0.8947173774643207\n",
      "0.8945129253956847\n"
     ]
    }
   ],
   "source": [
    "print(f1_score(Y_train,rfc_train_pred))\n",
    "print(f1_score(Y_test,rfc_test_pred))"
   ]
  },
  {
   "cell_type": "code",
   "execution_count": 150,
   "id": "1a2ce907",
   "metadata": {},
   "outputs": [],
   "source": [
    "from sklearn.tree import DecisionTreeClassifier"
   ]
  },
  {
   "cell_type": "code",
   "execution_count": 151,
   "id": "7a35ddca",
   "metadata": {},
   "outputs": [],
   "source": [
    "dtc = DecisionTreeClassifier(criterion='gini',max_depth= 15,class_weight= 'balanced',random_state=50)\n",
    "dtc.fit(X_train,Y_train)\n",
    "dtc_train_pred = dtc.predict(X_train)\n",
    "dtc_test_pred = dtc.predict(X_test)"
   ]
  },
  {
   "cell_type": "code",
   "execution_count": 152,
   "id": "8a53c026",
   "metadata": {},
   "outputs": [
    {
     "name": "stdout",
     "output_type": "stream",
     "text": [
      "0.8841898379078948\n",
      "0.8721751215568839\n"
     ]
    }
   ],
   "source": [
    "print(f1_score(Y_train,dtc_train_pred))\n",
    "print(f1_score(Y_test,dtc_test_pred))"
   ]
  },
  {
   "cell_type": "code",
   "execution_count": 153,
   "id": "c7ec8e9f",
   "metadata": {},
   "outputs": [],
   "source": [
    "import xgboost as xgb"
   ]
  },
  {
   "cell_type": "code",
   "execution_count": 154,
   "id": "edc86163",
   "metadata": {},
   "outputs": [],
   "source": [
    "xgbc = xgb.XGBClassifier(n_estimators=70,random_state=55,max_depth=15)\n",
    "xgbc.fit(X_train,Y_train)\n",
    "xgbc_train_pred = xgbc.predict(X_train)\n",
    "xgbc_test_pred = xgbc.predict(X_test)"
   ]
  },
  {
   "cell_type": "code",
   "execution_count": 155,
   "id": "319b9777",
   "metadata": {},
   "outputs": [
    {
     "name": "stdout",
     "output_type": "stream",
     "text": [
      "0.9186341071236245\n",
      "0.8997421669188947\n"
     ]
    }
   ],
   "source": [
    "print(f1_score(Y_train,xgbc_train_pred))\n",
    "print(f1_score(Y_test,xgbc_test_pred))"
   ]
  },
  {
   "cell_type": "code",
   "execution_count": 169,
   "id": "7c8ed412",
   "metadata": {},
   "outputs": [],
   "source": [
    "import joblib"
   ]
  },
  {
   "cell_type": "code",
   "execution_count": 170,
   "id": "a4634f4c",
   "metadata": {},
   "outputs": [
    {
     "data": {
      "text/plain": [
       "['xgb_model.pkl']"
      ]
     },
     "execution_count": 170,
     "metadata": {},
     "output_type": "execute_result"
    }
   ],
   "source": [
    "joblib.dump(xgbc,'xgb_model.pkl')"
   ]
  },
  {
   "cell_type": "code",
   "execution_count": 171,
   "id": "53a42a48",
   "metadata": {},
   "outputs": [],
   "source": [
    "xgb_load_model = joblib.load('xgb_model.pkl')"
   ]
  },
  {
   "cell_type": "code",
   "execution_count": 177,
   "id": "d2b4ddfd",
   "metadata": {},
   "outputs": [
    {
     "name": "stdout",
     "output_type": "stream",
     "text": [
      "0.8534719216638246\n"
     ]
    }
   ],
   "source": [
    "result_score = xgb_load_model.score(X_test,Y_test)\n",
    "print(result_score)"
   ]
  },
  {
   "cell_type": "code",
   "execution_count": 178,
   "id": "f6309722",
   "metadata": {},
   "outputs": [
    {
     "name": "stdout",
     "output_type": "stream",
     "text": [
      "0.9186341071236245\n"
     ]
    }
   ],
   "source": [
    "result = xgb_load_model.predict(X_train)\n",
    "print(f1_score(Y_train,result))\n"
   ]
  },
  {
   "cell_type": "code",
   "execution_count": null,
   "id": "40ba22e6",
   "metadata": {},
   "outputs": [],
   "source": []
  },
  {
   "cell_type": "code",
   "execution_count": null,
   "id": "e14faad0",
   "metadata": {},
   "outputs": [],
   "source": []
  },
  {
   "cell_type": "code",
   "execution_count": null,
   "id": "31495c1b",
   "metadata": {},
   "outputs": [],
   "source": []
  }
 ],
 "metadata": {
  "kernelspec": {
   "display_name": "Python 3 (ipykernel)",
   "language": "python",
   "name": "python3"
  },
  "language_info": {
   "codemirror_mode": {
    "name": "ipython",
    "version": 3
   },
   "file_extension": ".py",
   "mimetype": "text/x-python",
   "name": "python",
   "nbconvert_exporter": "python",
   "pygments_lexer": "ipython3",
   "version": "3.9.7"
  }
 },
 "nbformat": 4,
 "nbformat_minor": 5
}
